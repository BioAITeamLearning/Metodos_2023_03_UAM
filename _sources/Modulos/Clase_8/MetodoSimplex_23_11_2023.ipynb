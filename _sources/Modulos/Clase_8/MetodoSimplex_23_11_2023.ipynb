{
  "nbformat": 4,
  "nbformat_minor": 0,
  "metadata": {
    "colab": {
      "provenance": []
    },
    "kernelspec": {
      "name": "python3",
      "display_name": "Python 3"
    },
    "language_info": {
      "name": "python"
    }
  },
  "cells": [
    {
      "cell_type": "markdown",
      "source": [
        "# Método Simplex\n",
        "\n",
        "Es un método para resolver problemas de programación lineal de tamaño $m X n$. Donde m son el numero de restricciones y n el numero de variables.\n",
        "\n",
        "<img src=\"https://upload.wikimedia.org/wikipedia/commons/thumb/e/ef/Simplex-description-en.svg/1200px-Simplex-description-en.svg.png\" width=300/>\n",
        "\n",
        "## Conceptos Básicos:\n",
        "1. **Variables de Decisión:** Representan las incógnitas del problema.\n",
        "2. **Restricciones:** Limitaciones o condiciones que deben cumplirse.\n",
        "3. **Función Objetivo:** La función que se busca maximizar o minimizar.\n",
        "4. **Soluciones Factibles:** Conjunto de todas las posibles soluciones que satisfacen las restricciones.\n",
        "\n",
        "**Variables artificiales**\n",
        "* **Holgura($H_i$ o $S_i$):** Sobrante, lo que no se utilizó, lo que queda de una producción, material ocioso, recurso no utilizado. **Es la cantidad utilizada para volver una restricción de $\\leq$ en $=$**\n",
        "* **Artificiales(A)**: Artificio que solo me ayuda a resolver el problema.\n",
        "* **Superavit(s_i)**: Cantidad que se genera por encima de un mínimo.\n",
        "\n",
        "**Restricciones**\n",
        "\n",
        "* **$\\leq$** se agrega una variable de holgura (+S)\n",
        "* **$=$** Se agrega una variable artificial (+A)\n",
        "* **$\\geq$** Se agrega una variable de superavit (-s+A)\n",
        "\n",
        "**Variables**\n",
        "- **Básicas**: $x_1, x_2,x_3,...,x_n$\n",
        "- **No Básicas**: S,A, -S\n",
        "\n",
        "Este método consiste en resolver un problema de programación lineal mediante varias iteraciones o tableros. Mediante entrada y salida de variables desde y hacia una base hasta llegar a un criterio de optimalidad.\n",
        "\n",
        "\n",
        "\n",
        "\n",
        "\n",
        "\n",
        "En el mundo real, se utiliza para la asignación de recursos, planificación de la producción, logística de transporte, entre otros.\n",
        "\n",
        "\n"
      ],
      "metadata": {
        "id": "7Mht55FGsGKE"
      }
    },
    {
      "cell_type": "markdown",
      "source": [
        "## Análisis de las restricciones\n",
        "\n",
        "### Restricción ($\\leq$)\n",
        "\n",
        "Se agrega una variable de holgura ($+S_i$)con el objetivo de convertir una restricción de $\\leq$ en $=$\n",
        "\n",
        "### Restricción ($=$)\n",
        "Es aprox $\\leq \\land \\geq$. Se agrega una variable artificial $(A_i)$ y se aplica el método de la gran M\n",
        "\n",
        "#### Método de la gran M\n",
        "1. Se adiciona A en la restricción\n",
        "2. Si PPL es MAX se resta \"MA\" en la función objetivo\n",
        "3. Si PPL es MIN se adiciona \"MA\" en la función objetiv\n",
        "\n",
        "### Reesticción ($\\geq$)\n",
        "\n",
        "Se agrega una variable de superavit ($-s_i+A_i$) con el objetivo de convertir una restricción de $\\geq$ en $=$\n",
        "\n",
        "### Minimización\n",
        "**Convertir la función objetivo Min en Max**"
      ],
      "metadata": {
        "id": "8TsED_iVvLpm"
      }
    },
    {
      "cell_type": "markdown",
      "source": [
        "## Procedimiento del método simplex\n",
        "\n",
        "1. Formular el PPL\n",
        "2. Estandarizar el problema, es decir establecer la matriz básica o canónica en donde las variables básicas son dependientes y las no basicas independientes.\n",
        "3. Aplicar los criterios.\n",
        "  - 3.1. Criterio de entrada: Min $C_i$\n",
        "  - 3.2. Criterio de salida: Min $\\bigg(\\frac{b_i}{c_i}\\bigg)$ con $a_i>0$\n",
        "    + Recuerde que buscamos optimizar $Z = \\pm C_iX_i$\n",
        "    + Sujeto a:\n",
        "      * $a_iX_i \\leq = \\geq b_i$;\n",
        "      * $x_i\\geq 0$\n",
        "\n",
        "  - 3.3. **Pivote:** Intercepto entre columna y fila.\n",
        "  - 3.4. Hacer el tratamiento para la **Variable de entrada**: Es decir, dejar en 1 la posición del pivote y en o las demás posiciones de la columna.\n",
        "  - 3.5. Hacer el tratamiento para la **Variable de salida**: Es decir, se divide el valor de cada celda entre el pivote.\n",
        "  - 3.6. Calcular los valores de las demás celdas: $D_n = D_a - \\frac{p_1 x p_2}{p}$"
      ],
      "metadata": {
        "id": "G4Cb7hv2xeo8"
      }
    },
    {
      "cell_type": "markdown",
      "source": [
        "## Ejemplo:\n",
        "\n",
        "$$Max   Z = 16 x_1 + 10 x_2$$\n",
        "\n",
        "Sujeto a:\n",
        "$$2x_1+2x_2\\leq9$$\n",
        "\n",
        "$$2x_1+x_2\\leq6$$\n",
        "$$x_1,x_2 \\geq 0$$"
      ],
      "metadata": {
        "id": "HsmGRMBR0psl"
      }
    },
    {
      "cell_type": "markdown",
      "source": [
        "### Solución\n",
        "Primero analicemos las restricciones:\n",
        "\n",
        "Sujeto a:\n",
        "$$2x_1+2x_2 + S_1 = 9$$\n",
        "\n",
        "$$2x_1+x_2 + S_2 = 6$$\n",
        "$$x_1,x_2 \\geq 0$$\n",
        "$$S_1,S_2 \\geq 0$$\n",
        "\n",
        "\n",
        "Ahora vamos a estandarizar las restricciones.\n",
        "$$2x_1+2x_2 + S_1 = 9$$\n",
        "$$2x_1+x_2 + S_2 = 6$$\n",
        "**$$z-16x_1 -10x_2 = 0$$**\n",
        "\n"
      ],
      "metadata": {
        "id": "3gM4HPaX1Xye"
      }
    },
    {
      "cell_type": "markdown",
      "source": [
        "### Ahora vamos a implementar el tablero 1 simplex\n",
        "\n",
        "Primero vamos a encontrar el criterio de entrada, en este caso de la fila donde está z vamos a buscar el valor más lejos de cero por la izquierda.\n",
        "\n",
        "\n",
        "<img src=\"https://github.com/BioAITeamLearning/Metodos_2023_03_UAM/blob/main/_static/images/simplex1.png?raw=true\"/>\n",
        "\n",
        "En este caso es la columna donde está el -16 en la última fila.\n",
        "\n",
        "Ahora debemos encontrar el criterio de salida, para ello vamos a dividir cada elemento de la columna b por su correspondiente en la columna de entrada y el menor valor de estas divisiones será la fila de salida.\n",
        "\n",
        "<img src=\"https://github.com/BioAITeamLearning/Metodos_2023_03_UAM/blob/main/_static/images/simplex2.png?raw=true\"/>\n",
        "\n",
        "\n",
        "Como es la fila S2 en la que está el menor valor de la división,\n",
        "\n",
        "$$\n",
        "Min \\bigg(\\frac{b_i}{c_i}\\bigg)\n",
        "$$\n",
        "\n",
        "entonces esta será la fila que sale y podemos definir el pivote como la celda en la que se interceptan la columna de entrada y la fila salida.\n",
        "\n",
        "\n",
        "<img src=\"https://github.com/BioAITeamLearning/Metodos_2023_03_UAM/blob/main/_static/images/simplex3.png?raw=true\"/>\n",
        "\n",
        "\n",
        "\n",
        "Por lo tanto el pivote es 2"
      ],
      "metadata": {
        "id": "2PBgMcBo2y6N"
      }
    },
    {
      "cell_type": "markdown",
      "source": [
        "### Tabla Simplex 2\n",
        "\n",
        "Tomamos la fila salida y le cambiamos el nombre por el de la columna entrada que indentificamos anteriormente y los valores de esta nueva fila serán los de la fila anterior dividio entre el pivote.\n",
        "\n",
        "<img src=\"https://github.com/BioAITeamLearning/Metodos_2023_03_UAM/blob/main/_static/images/simplex4.png?raw=true\"/>\n",
        "\n",
        "\n",
        "Ahora vamos a recalcular las demás filas usando la formula.\n",
        "\n",
        "\n",
        "$F_{nueva} = F_{vieja} - CPFV*(F_{entrante})$\n",
        "\n",
        "Donde $CPFV$ es el valor de la fila vieja en el indice de la columna pivote.\n",
        "\n",
        "\n",
        "En la siguiente imagen note que es el del color verde.\n",
        "\n",
        "<img src=\"https://github.com/BioAITeamLearning/Metodos_2023_03_UAM/blob/main/_static/images/simplex5.png?raw=true\"/>\n",
        "\n",
        "entonces para S1 queda\n",
        "\n",
        "(9,2,2,1,0) - 2*(3,1,0.5,0,0.5) = (3,0,1,1,-1)\n",
        "\n",
        "\n",
        "por lo tanto la tabla simplex 2 queda:\n",
        "\n",
        "<img src=\"https://github.com/BioAITeamLearning/Metodos_2023_03_UAM/blob/main/_static/images/simplex6.png?raw=true\"/>\n",
        "\n",
        "\n",
        "A esta se le vuelve a calcular la columna de entrada y la fila como al principio y se repite el proceso hasta que x1 y x2 sean identidad.\n",
        "\n",
        "\n",
        "Por lo tanto el tablero 3 queda:\n",
        "\n",
        "<img src=\"https://github.com/BioAITeamLearning/Metodos_2023_03_UAM/blob/main/_static/images/simplex7.png?raw=true\"/>\n",
        "\n",
        "\n",
        "En este punto los valores de S1 y S2 en la fila Z se denominan precios sombra.\n",
        "\n",
        "\n",
        "El resultado de este ejercicio es:\n",
        "\n",
        "**Solucion óptima única**\n",
        "\n",
        "$$x_1 = 3/2$$\n",
        "$$x_2 = 3$$\n",
        "$$z = 54$$\n",
        "\n"
      ],
      "metadata": {
        "id": "pLlO_qGh9xZs"
      }
    },
    {
      "cell_type": "markdown",
      "source": [
        "## Tarea\n",
        "\n",
        "Realice el calculo del siguiente problema mediante el método simplex y comparlo con el resultado obtenido mediante el método gráfico.\n",
        "\n",
        "\n",
        "\n",
        "\n"
      ],
      "metadata": {
        "id": "pV66JozwJ3ak"
      }
    },
    {
      "cell_type": "markdown",
      "source": [
        "$$Min   Z = 2 x_1 + 3 x_2$$\n",
        "\n",
        "Sujeto a:\n",
        "$$2x_1+x_2\\geq4$$\n",
        "\n",
        "$$-x_1+x_2\\leq1$$\n",
        "$$x_1,x_2 \\geq 0$$"
      ],
      "metadata": {
        "id": "FoySsoe6KRhb"
      }
    },
    {
      "cell_type": "markdown",
      "source": [
        "# Tarea\n",
        "\n",
        "\n",
        "Teniendo en cuenta lo visto en el método, implemente un algoritmo que resuelva problemas de programación lineal usando python para cualquier problema.\n",
        "\n",
        "Encuentre una función en Python que implemente el método Simplex para resolver problemas de optimización con restricciones."
      ],
      "metadata": {
        "id": "jVAnKOyKd_Hj"
      }
    },
    {
      "cell_type": "code",
      "source": [],
      "metadata": {
        "id": "mMqKRX_-6H4Q"
      },
      "execution_count": null,
      "outputs": []
    }
  ]
}