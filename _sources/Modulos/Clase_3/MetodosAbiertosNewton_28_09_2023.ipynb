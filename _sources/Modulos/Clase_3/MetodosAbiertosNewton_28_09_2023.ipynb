{
  "nbformat": 4,
  "nbformat_minor": 0,
  "metadata": {
    "colab": {
      "provenance": [],
      "toc_visible": true
    },
    "kernelspec": {
      "name": "python3",
      "display_name": "Python 3"
    },
    "language_info": {
      "name": "python"
    }
  },
  "cells": [
    {
      "cell_type": "markdown",
      "source": [
        "# Método de newton-raphson\n",
        "\n",
        "Es el método más usado  y trabaja como referencia la pendiente ($m$) de la recta tangente en una raíz $x_i$ incial para hallar el $x_{i+1}$.\n",
        "\n",
        "Este método tiende a acercarse muy rápido a la raíz. Pero también puede tender a la divergencia rápidamente.\n",
        "\n",
        "<p align=\"center\">\n",
        "<img src=\"https://www.neurochispas.com/wp-content/uploads/2022/12/Diagrama-para-provar-el-metodo-de-Newton-Raphson.png\" width=500/>"
      ],
      "metadata": {
        "id": "ok6KLSC385Jv"
      }
    },
    {
      "cell_type": "markdown",
      "source": [
        "$$f'(x_i)= \\frac{f(xi)-0}{x_i - x_{i+1}}$$\n",
        "$$f'(x_i)[x_i - x_{i+1}] = f(x_i)$$\n",
        "$$f'(x_i)(x_i) - f'(x_i)(x_{i+1}) = f(x_i)$$\n",
        "$$f'(x_i)(x_{i+1}) = f'(x_i)(x_i) - f(x_i)$$\n",
        "\n",
        "$$x_{i+1} = x_i - \\frac{f(x_i)}{f'(x_i)} $$"
      ],
      "metadata": {
        "id": "kUhsyXtH_hat"
      }
    },
    {
      "cell_type": "markdown",
      "source": [
        "## Algoritmo de Newton Raphson\n",
        "\n",
        "1. Se calcula el siguiente $x_{i+1}$ con la formula.\n",
        "\n",
        "  $$x_{i+1} = x_i - \\frac{f(x_i)}{f'(x_i)} $$\n",
        "\n",
        "2. Se repite el paso **1** hasta convergencia.\n",
        "\n",
        "### Error relativo\n",
        "$$\n",
        "e_r = \\lvert \\frac{x_{i+1}-x_{i}}{x_{i+1}}\\rvert\n",
        "$$\n",
        "\n",
        "### Tolerancia\n",
        "\n",
        "Precisión que se requiere en el método!!"
      ],
      "metadata": {
        "id": "OlK86YzVDbjG"
      }
    },
    {
      "cell_type": "markdown",
      "source": [
        "## Veamos un ejemplo práctico\n",
        "\n",
        "Hallar la raíz de $f(x)= e^{-x} - x$ con el método de Newton Raphson y una condición inicial $x_i=0$ y $tol = 1\\%$"
      ],
      "metadata": {
        "id": "Xl6NSVsjFCE-"
      }
    },
    {
      "cell_type": "markdown",
      "source": [
        "### Solución"
      ],
      "metadata": {
        "id": "TmrMoqtPIYEf"
      }
    },
    {
      "cell_type": "code",
      "source": [
        "import numpy as np\n",
        "import sympy as sp\n",
        "import matplotlib.pyplot as plt"
      ],
      "metadata": {
        "id": "IABw4neMI7P-"
      },
      "execution_count": 126,
      "outputs": []
    },
    {
      "cell_type": "code",
      "source": [
        "# Tomamos el intérvalo inicial y grafiquemos la función dentro de ese valor\n",
        "\n",
        "x = sp.symbols('x')\n",
        "\n",
        "y = sp.E**(-x)-x\n",
        "print(\"La función es: \",y)\n",
        "\n",
        "xi = 0\n",
        "\n",
        "print(f\"El punto inicial es: {xi} \")\n",
        "\n",
        "fxi = round(y.subs({x: xi}), 4)\n",
        "print(f\"la función evaluada en xi : f({xi})={fxi}\")"
      ],
      "metadata": {
        "colab": {
          "base_uri": "https://localhost:8080/"
        },
        "id": "HBgJqDuUI9oD",
        "outputId": "fb83dca8-b829-4c7d-d36d-e764b973fc06"
      },
      "execution_count": 127,
      "outputs": [
        {
          "output_type": "stream",
          "name": "stdout",
          "text": [
            "La función es:  -x + exp(-x)\n",
            "El punto inicial es: 0 \n",
            "la función evaluada en xi : f(0)=1\n"
          ]
        }
      ]
    },
    {
      "cell_type": "code",
      "source": [
        "# @title Gráfica incial de la función y $x_i$ dado\n",
        "import numpy as np\n",
        "plt.figure()\n",
        "\n",
        "r = np.linspace(-0.5,1, 100)\n",
        "fx = [y.subs({x:x_i}) for x_i in r]\n",
        "\n",
        "fig, ax = plt.subplots()\n",
        "ax.plot(r,fx,color='blue',label=\"$e^{-x} - x$\")\n",
        "\n",
        "## Plano cartesiano (Ejes)\n",
        "ax.vlines(x=0,ymin=min(fx)-0.1,ymax=max(fx)+0.1,color='k')\n",
        "ax.hlines(y=0,xmin=min(r)-0.1,xmax=max(r)+0.1,color='k')\n",
        "\n",
        "## Punto inicial\n",
        "\n",
        "ax.plot([xi],[fxi], color='red', marker='o', label='$(x_0,f(x_0))$')\n",
        "\n",
        "ax.set_title(\"$e^{-x} - x$\")\n",
        "ax.grid()\n",
        "ax.legend()\n",
        "plt.show()"
      ],
      "metadata": {
        "colab": {
          "base_uri": "https://localhost:8080/",
          "height": 469
        },
        "cellView": "form",
        "id": "1BLNP1kEIcDn",
        "outputId": "1d282570-deda-4d95-ad91-36ce56965d0c"
      },
      "execution_count": 128,
      "outputs": [
        {
          "output_type": "display_data",
          "data": {
            "text/plain": [
              "<Figure size 640x480 with 0 Axes>"
            ]
          },
          "metadata": {}
        },
        {
          "output_type": "display_data",
          "data": {
            "text/plain": [
              "<Figure size 640x480 with 1 Axes>"
            ],
            "image/png": "[encoded data removed]"
          },
          "metadata": {}
        }
      ]
    },
    {
      "cell_type": "markdown",
      "source": [
        "#### Formula para el cálculo del $x_{i+1}$ en el ejercicio dado\n",
        "$$x_{i+1} = x_i - \\frac{f(x_i)}{f'(x_i)} = x_i - \\frac{e^{-x} - x}{-e^{-x} - 1}$$"
      ],
      "metadata": {
        "id": "cY_Mob-VH46o"
      }
    },
    {
      "cell_type": "code",
      "execution_count": 129,
      "metadata": {
        "colab": {
          "base_uri": "https://localhost:8080/"
        },
        "id": "yJmCuEfA84HP",
        "outputId": "c3bf1824-6070-47bb-a25d-8f20017e3160"
      },
      "outputs": [
        {
          "output_type": "stream",
          "name": "stdout",
          "text": [
            "La derivada de la función f(x)=-x + exp(-x) -> \t f'(x)= -1 - exp(-x)\n",
            "La derivada evaluada en xi f'(xi)= -2\n"
          ]
        }
      ],
      "source": [
        "# Calculamos la derivada de la función\n",
        "dy = y.diff()\n",
        "print(f\"La derivada de la función f(x)={y} -> \\t f'(x)= {dy}\")\n",
        "\n",
        "# Evaluemos la derivada en x_i\n",
        "\n",
        "dfxi = round(dy.subs({x:xi}),4)\n",
        "print(f\"La derivada evaluada en xi f'(xi)= {dfxi}\")"
      ]
    },
    {
      "cell_type": "code",
      "source": [
        "# Calculemos el x_i+1 (siguiente)\n",
        "\n",
        "xs = round(xi - ((fxi)/(dfxi)),4)\n",
        "print(f\"La raíz supuesta está en x={xs}\")"
      ],
      "metadata": {
        "colab": {
          "base_uri": "https://localhost:8080/"
        },
        "id": "SIufN8eiLjTM",
        "outputId": "cc664e85-80c4-4862-8064-7c46bfeb7467"
      },
      "execution_count": 130,
      "outputs": [
        {
          "output_type": "stream",
          "name": "stdout",
          "text": [
            "La raíz supuesta está en x=0.5000\n"
          ]
        }
      ]
    },
    {
      "cell_type": "code",
      "source": [
        "# @title Gráfica función con el $x_i$ y $x_{i+1}$ calculado\n",
        "import numpy as np\n",
        "plt.figure()\n",
        "\n",
        "r = np.linspace(-0.5,1, 100)\n",
        "fx = [y.subs({x:x_i}) for x_i in r]\n",
        "\n",
        "fig, ax = plt.subplots()\n",
        "ax.plot(r,fx,color='blue',label=\"$e^{-x} - x$\")\n",
        "\n",
        "h=0.1\n",
        "dfx = (y.subs({x:xi+h})-y.subs({x:xi}))/h # derivative\n",
        "tan = y.subs({x:xi})+dfx*(r-xi)  # tangent\n",
        "ax.plot(r,tan,color='purple',linestyle='--',label=f\"${sp.latex(dy)}$\")\n",
        "\n",
        "## Plano cartesiano (Ejes)\n",
        "ax.vlines(x=0,ymin=min(fx)-0.1,ymax=max(fx)+0.1,color='k')\n",
        "ax.hlines(y=0,xmin=min(r)-0.1,xmax=max(r)+0.1,color='k')\n",
        "\n",
        "## Punto inicial\n",
        "\n",
        "ax.plot([xi],[fxi], color='red', marker='o', label='$(x_0,f(x_0))$')\n",
        "ax.plot([xs],[0], color='red', marker='x', label='$(x_{0+1},0)$')\n",
        "\n",
        "ax.set_title(\"$e^{-x} - x$\")\n",
        "ax.grid()\n",
        "ax.legend()\n",
        "plt.show()"
      ],
      "metadata": {
        "colab": {
          "base_uri": "https://localhost:8080/",
          "height": 469
        },
        "cellView": "form",
        "id": "5Ocx7N4pNerI",
        "outputId": "0ec39e3e-de04-42b7-afc5-ebfa6005c46f"
      },
      "execution_count": 131,
      "outputs": [
        {
          "output_type": "display_data",
          "data": {
            "text/plain": [
              "<Figure size 640x480 with 0 Axes>"
            ]
          },
          "metadata": {}
        },
        {
          "output_type": "display_data",
          "data": {
            "text/plain": [
              "<Figure size 640x480 with 1 Axes>"
            ],
            "image/png": "[encoded data removed]"
          },
          "metadata": {}
        }
      ]
    },
    {
      "cell_type": "code",
      "source": [
        "# Calculemos el error\n",
        "er = np.abs((xs-xi)/(xs)) * 100\n",
        "print(f\"El error del cálculo es: {round(er,1)}%\")"
      ],
      "metadata": {
        "colab": {
          "base_uri": "https://localhost:8080/"
        },
        "id": "XNhng71POIFE",
        "outputId": "f6ec5050-98e8-483f-9c48-4ce7684e90bb"
      },
      "execution_count": 132,
      "outputs": [
        {
          "output_type": "stream",
          "name": "stdout",
          "text": [
            "El error del cálculo es: 100.0%\n"
          ]
        }
      ]
    },
    {
      "cell_type": "code",
      "source": [
        "# Generemos la tabla de iteraciones\n",
        "# @title Tabla de iteraciones\n",
        "import pandas as pd\n",
        "\n",
        "columnas = ['xi','Xi+1','f(xi)',\"f'(Xi)\",'er(%)']\n",
        "\n",
        "primer_iter = {'xi':[xi],'Xi+1':[xs],'f(xi)':[fxi],\"f'(Xi)\":[dfxi],'er(%)':[round(er,4)]}\n",
        "\n",
        "tabla = pd.DataFrame(data=primer_iter,columns=columnas)\n",
        "tabla.head(1)"
      ],
      "metadata": {
        "colab": {
          "base_uri": "https://localhost:8080/",
          "height": 81
        },
        "id": "k2aQuaJwRas-",
        "outputId": "7ae3cc16-b581-4dba-efc7-f8e74cd95b00"
      },
      "execution_count": 133,
      "outputs": [
        {
          "output_type": "execute_result",
          "data": {
            "text/plain": [
              "   xi    Xi+1 f(xi) f'(Xi)  er(%)\n",
              "0   0  0.5000     1     -2  100.0"
            ],
            "text/html": [
              "\n",
              "  <div id=\"df-b5e1a5cf-bfda-4c47-8e68-b0e8e920ed51\" class=\"colab-df-container\">\n",
              "    <div>\n",
              "<style scoped>\n",
              "    .dataframe tbody tr th:only-of-type {\n",
              "        vertical-align: middle;\n",
              "    }\n",
              "\n",
              "    .dataframe tbody tr th {\n",
              "        vertical-align: top;\n",
              "    }\n",
              "\n",
              "    .dataframe thead th {\n",
              "        text-align: right;\n",
              "    }\n",
              "</style>\n",
              "<table border=\"1\" class=\"dataframe\">\n",
              "  <thead>\n",
              "    <tr style=\"text-align: right;\">\n",
              "      <th></th>\n",
              "      <th>xi</th>\n",
              "      <th>Xi+1</th>\n",
              "      <th>f(xi)</th>\n",
              "      <th>f'(Xi)</th>\n",
              "      <th>er(%)</th>\n",
              "    </tr>\n",
              "  </thead>\n",
              "  <tbody>\n",
              "    <tr>\n",
              "      <th>0</th>\n",
              "      <td>0</td>\n",
              "      <td>0.5000</td>\n",
              "      <td>1</td>\n",
              "      <td>-2</td>\n",
              "      <td>100.0</td>\n",
              "    </tr>\n",
              "  </tbody>\n",
              "</table>\n",
              "</div>\n",
              "    <div class=\"colab-df-buttons\">\n",
              "\n",
              "  <div class=\"colab-df-container\">\n",
              "    <button class=\"colab-df-convert\" onclick=\"convertToInteractive('df-b5e1a5cf-bfda-4c47-8e68-b0e8e920ed51')\"\n",
              "            title=\"Convert this dataframe to an interactive table.\"\n",
              "            style=\"display:none;\">\n",
              "\n",
              "  <svg xmlns=\"http://www.w3.org/2000/svg\" height=\"24px\" viewBox=\"0 -960 960 960\">\n",
              "    <path d=\"M120-120v-720h720v720H120Zm60-500h600v-160H180v160Zm220 220h160v-160H400v160Zm0 220h160v-160H400v160ZM180-400h160v-160H180v160Zm440 0h160v-160H620v160ZM180-180h160v-160H180v160Zm440 0h160v-160H620v160Z\"/>\n",
              "  </svg>\n",
              "    </button>\n",
              "\n",
              "  <style>\n",
              "    .colab-df-container {\n",
              "      display:flex;\n",
              "      gap: 12px;\n",
              "    }\n",
              "\n",
              "    .colab-df-convert {\n",
              "      background-color: #E8F0FE;\n",
              "      border: none;\n",
              "      border-radius: 50%;\n",
              "      cursor: pointer;\n",
              "      display: none;\n",
              "      fill: #1967D2;\n",
              "      height: 32px;\n",
              "      padding: 0 0 0 0;\n",
              "      width: 32px;\n",
              "    }\n",
              "\n",
              "    .colab-df-convert:hover {\n",
              "      background-color: #E2EBFA;\n",
              "      box-shadow: 0px 1px 2px rgba(60, 64, 67, 0.3), 0px 1px 3px 1px rgba(60, 64, 67, 0.15);\n",
              "      fill: #174EA6;\n",
              "    }\n",
              "\n",
              "    .colab-df-buttons div {\n",
              "      margin-bottom: 4px;\n",
              "    }\n",
              "\n",
              "    [theme=dark] .colab-df-convert {\n",
              "      background-color: #3B4455;\n",
              "      fill: #D2E3FC;\n",
              "    }\n",
              "\n",
              "    [theme=dark] .colab-df-convert:hover {\n",
              "      background-color: #434B5C;\n",
              "      box-shadow: 0px 1px 3px 1px rgba(0, 0, 0, 0.15);\n",
              "      filter: drop-shadow(0px 1px 2px rgba(0, 0, 0, 0.3));\n",
              "      fill: #FFFFFF;\n",
              "    }\n",
              "  </style>\n",
              "\n",
              "    <script>\n",
              "      const buttonEl =\n",
              "        document.querySelector('#df-b5e1a5cf-bfda-4c47-8e68-b0e8e920ed51 button.colab-df-convert');\n",
              "      buttonEl.style.display =\n",
              "        google.colab.kernel.accessAllowed ? 'block' : 'none';\n",
              "\n",
              "      async function convertToInteractive(key) {\n",
              "        const element = document.querySelector('#df-b5e1a5cf-bfda-4c47-8e68-b0e8e920ed51');\n",
              "        const dataTable =\n",
              "          await google.colab.kernel.invokeFunction('convertToInteractive',\n",
              "                                                    [key], {});\n",
              "        if (!dataTable) return;\n",
              "\n",
              "        const docLinkHtml = 'Like what you see? Visit the ' +\n",
              "          '<a target=\"_blank\" href=https://colab.research.google.com/notebooks/data_table.ipynb>data table notebook</a>'\n",
              "          + ' to learn more about interactive tables.';\n",
              "        element.innerHTML = '';\n",
              "        dataTable['output_type'] = 'display_data';\n",
              "        await google.colab.output.renderOutput(dataTable, element);\n",
              "        const docLink = document.createElement('div');\n",
              "        docLink.innerHTML = docLinkHtml;\n",
              "        element.appendChild(docLink);\n",
              "      }\n",
              "    </script>\n",
              "  </div>\n",
              "\n",
              "    </div>\n",
              "  </div>\n"
            ]
          },
          "metadata": {},
          "execution_count": 133
        }
      ]
    },
    {
      "cell_type": "markdown",
      "source": [
        "#### Sigamos iterando..."
      ],
      "metadata": {
        "id": "sNd3wdjYQ8AD"
      }
    },
    {
      "cell_type": "code",
      "source": [
        "# Nuestro x_i+1 ahora se convierte en nuestro x_i\n",
        "xi = xs"
      ],
      "metadata": {
        "id": "KEqpx97SQ_iN"
      },
      "execution_count": 134,
      "outputs": []
    },
    {
      "cell_type": "code",
      "source": [
        "print(f\"El punto inicial ahora es: {xi} \")\n",
        "\n",
        "fxi = round(y.subs({x: xi}), 4)\n",
        "print(f\"la función evaluada en xi ahora es: f({xi})={fxi}\")"
      ],
      "metadata": {
        "colab": {
          "base_uri": "https://localhost:8080/"
        },
        "id": "tFL6NWmeQ7om",
        "outputId": "a9fa2b95-e5c0-40fd-fab4-4d896fdf9e2c"
      },
      "execution_count": 135,
      "outputs": [
        {
          "output_type": "stream",
          "name": "stdout",
          "text": [
            "El punto inicial ahora es: 0.5000 \n",
            "la función evaluada en xi ahora es: f(0.5000)=0.1065\n"
          ]
        }
      ]
    },
    {
      "cell_type": "code",
      "source": [
        "# @title Gráfica incial de la función y $x_i$ para la iteración 2\n",
        "import numpy as np\n",
        "plt.figure()\n",
        "\n",
        "r = np.linspace(-0.5,1, 100)\n",
        "fx = [y.subs({x:x_i}) for x_i in r]\n",
        "\n",
        "fig, ax = plt.subplots()\n",
        "ax.plot(r,fx,color='blue',label=\"$e^{-x} - x$\")\n",
        "\n",
        "h=0.1\n",
        "dfx = (y.subs({x:xi+h})-y.subs({x:xi}))/h # derivative\n",
        "tan = y.subs({x:xi})+dfx*(r-xi)  # tangent\n",
        "ax.plot(r,tan,color='purple',linestyle='--',label=f\"${sp.latex(dy)}$\")\n",
        "\n",
        "## Plano cartesiano (Ejes)\n",
        "ax.vlines(x=0,ymin=min(fx)-0.1,ymax=max(fx)+0.1,color='k')\n",
        "ax.hlines(y=0,xmin=min(r)-0.1,xmax=max(r)+0.1,color='k')\n",
        "\n",
        "## Punto inicial\n",
        "\n",
        "ax.plot([xi],[fxi], color='red', marker='o', label='$(x_1,f(x_1))$')\n",
        "\n",
        "ax.set_title(\"$e^{-x} - x$\")\n",
        "ax.grid()\n",
        "ax.legend()\n",
        "plt.show()"
      ],
      "metadata": {
        "colab": {
          "base_uri": "https://localhost:8080/",
          "height": 469
        },
        "cellView": "form",
        "id": "1Pho3naRRefz",
        "outputId": "0b2ede5b-f9d4-45d0-ac43-88f6a6a6e4a0"
      },
      "execution_count": 136,
      "outputs": [
        {
          "output_type": "display_data",
          "data": {
            "text/plain": [
              "<Figure size 640x480 with 0 Axes>"
            ]
          },
          "metadata": {}
        },
        {
          "output_type": "display_data",
          "data": {
            "text/plain": [
              "<Figure size 640x480 with 1 Axes>"
            ],
            "image/png": "[encoded data removed]"
          },
          "metadata": {}
        }
      ]
    },
    {
      "cell_type": "code",
      "source": [
        "# Calculamos la derivada de la función\n",
        "dy = y.diff()\n",
        "print(f\"La derivada de la función f(x)={y} -> \\t f'(x)= {dy}\")\n",
        "\n",
        "# Evaluemos la derivada en x_i\n",
        "\n",
        "dfxi = round(dy.subs({x:xi}),4)\n",
        "print(f\"La derivada evaluada en xi f'(xi)= {dfxi}\")"
      ],
      "metadata": {
        "colab": {
          "base_uri": "https://localhost:8080/"
        },
        "id": "BNgl3ONxQbQW",
        "outputId": "bdfaf6b5-f304-416b-ec47-293586edc79c"
      },
      "execution_count": 137,
      "outputs": [
        {
          "output_type": "stream",
          "name": "stdout",
          "text": [
            "La derivada de la función f(x)=-x + exp(-x) -> \t f'(x)= -1 - exp(-x)\n",
            "La derivada evaluada en xi f'(xi)= -1.605\n"
          ]
        }
      ]
    },
    {
      "cell_type": "code",
      "source": [
        "# Calculemos el x_i+1 (siguiente)\n",
        "\n",
        "xs = round(xi - ((fxi)/(dfxi)),4)\n",
        "print(f\"La raíz supuesta está en x={xs}\")"
      ],
      "metadata": {
        "colab": {
          "base_uri": "https://localhost:8080/"
        },
        "id": "QiSyV30BUEzz",
        "outputId": "0283d2bd-23f7-4a5d-9da9-1e4d2e9046e3"
      },
      "execution_count": 138,
      "outputs": [
        {
          "output_type": "stream",
          "name": "stdout",
          "text": [
            "La raíz supuesta está en x=0.5664\n"
          ]
        }
      ]
    },
    {
      "cell_type": "code",
      "source": [
        "# @title Gráfica función con el $x_i$ y $x_{i+1}$ calculado\n",
        "import numpy as np\n",
        "plt.figure()\n",
        "\n",
        "r = np.linspace(-0.5,1, 100)\n",
        "fx = [y.subs({x:x_i}) for x_i in r]\n",
        "\n",
        "fig, ax = plt.subplots()\n",
        "ax.plot(r,fx,color='blue',label=\"$e^{-x} - x$\")\n",
        "\n",
        "h=0.1\n",
        "dfx = (y.subs({x:xi+h})-y.subs({x:xi}))/h # derivative\n",
        "tan = y.subs({x:xi})+dfx*(r-xi)  # tangent\n",
        "ax.plot(r,tan,color='purple',linestyle='--',label=f\"${sp.latex(dy)}$\")\n",
        "\n",
        "## Plano cartesiano (Ejes)\n",
        "ax.vlines(x=0,ymin=min(fx)-0.1,ymax=max(fx)+0.1,color='k')\n",
        "ax.hlines(y=0,xmin=min(r)-0.1,xmax=max(r)+0.1,color='k')\n",
        "\n",
        "## Punto inicial\n",
        "\n",
        "ax.plot([xi],[fxi], color='red', marker='o', label='$(x_1,f(x_1))$')\n",
        "ax.plot([xs],[0], color='red', marker='x', label='$(x_{2},0)$')\n",
        "\n",
        "ax.set_title(\"$e^{-x} - x$\")\n",
        "ax.grid()\n",
        "ax.legend()\n",
        "plt.show()"
      ],
      "metadata": {
        "colab": {
          "base_uri": "https://localhost:8080/",
          "height": 469
        },
        "cellView": "form",
        "id": "i_mIvkK2UZW7",
        "outputId": "5b538b5a-dbd2-470c-e7fd-46a93d88acef"
      },
      "execution_count": 139,
      "outputs": [
        {
          "output_type": "display_data",
          "data": {
            "text/plain": [
              "<Figure size 640x480 with 0 Axes>"
            ]
          },
          "metadata": {}
        },
        {
          "output_type": "display_data",
          "data": {
            "text/plain": [
              "<Figure size 640x480 with 1 Axes>"
            ],
            "image/png": "[encoded data removed]"
          },
          "metadata": {}
        }
      ]
    },
    {
      "cell_type": "code",
      "source": [
        "# Calculemos el error\n",
        "er = np.abs((xs-xi)/(xs)) * 100\n",
        "print(f\"El error del cálculo es: {round(er,1)}%\")"
      ],
      "metadata": {
        "colab": {
          "base_uri": "https://localhost:8080/"
        },
        "id": "_IJ9a79SVS3Z",
        "outputId": "d11a3666-26bb-45fc-9bd1-35090dbd030c"
      },
      "execution_count": 140,
      "outputs": [
        {
          "output_type": "stream",
          "name": "stdout",
          "text": [
            "El error del cálculo es: 11.7%\n"
          ]
        }
      ]
    },
    {
      "cell_type": "code",
      "source": [
        "# @title Actualizamos la tabla de iteraciones\n",
        "nueva_fila = {'xi':xi,'Xi+1':xs,'f(xi)':fxi,\"f'(Xi)\":dfxi,'er(%)':round(er,4)}\n",
        "tabla = tabla.append(nueva_fila, ignore_index=True)\n",
        "tabla.head()"
      ],
      "metadata": {
        "colab": {
          "base_uri": "https://localhost:8080/",
          "height": 167
        },
        "id": "WBLqv7ISVaQX",
        "outputId": "f5015593-363d-4580-dad4-d0cc8243d313"
      },
      "execution_count": 141,
      "outputs": [
        {
          "output_type": "stream",
          "name": "stderr",
          "text": [
            "<ipython-input-141-30e46d477870>:3: FutureWarning: The frame.append method is deprecated and will be removed from pandas in a future version. Use pandas.concat instead.\n",
            "  tabla = tabla.append(nueva_fila, ignore_index=True)\n"
          ]
        },
        {
          "output_type": "execute_result",
          "data": {
            "text/plain": [
              "       xi    Xi+1   f(xi)  f'(Xi)  er(%)\n",
              "0       0  0.5000       1      -2  100.0\n",
              "1  0.5000  0.5664  0.1065  -1.605  11.72"
            ],
            "text/html": [
              "\n",
              "  <div id=\"df-bac263c7-3f43-429c-9760-452ccb50768d\" class=\"colab-df-container\">\n",
              "    <div>\n",
              "<style scoped>\n",
              "    .dataframe tbody tr th:only-of-type {\n",
              "        vertical-align: middle;\n",
              "    }\n",
              "\n",
              "    .dataframe tbody tr th {\n",
              "        vertical-align: top;\n",
              "    }\n",
              "\n",
              "    .dataframe thead th {\n",
              "        text-align: right;\n",
              "    }\n",
              "</style>\n",
              "<table border=\"1\" class=\"dataframe\">\n",
              "  <thead>\n",
              "    <tr style=\"text-align: right;\">\n",
              "      <th></th>\n",
              "      <th>xi</th>\n",
              "      <th>Xi+1</th>\n",
              "      <th>f(xi)</th>\n",
              "      <th>f'(Xi)</th>\n",
              "      <th>er(%)</th>\n",
              "    </tr>\n",
              "  </thead>\n",
              "  <tbody>\n",
              "    <tr>\n",
              "      <th>0</th>\n",
              "      <td>0</td>\n",
              "      <td>0.5000</td>\n",
              "      <td>1</td>\n",
              "      <td>-2</td>\n",
              "      <td>100.0</td>\n",
              "    </tr>\n",
              "    <tr>\n",
              "      <th>1</th>\n",
              "      <td>0.5000</td>\n",
              "      <td>0.5664</td>\n",
              "      <td>0.1065</td>\n",
              "      <td>-1.605</td>\n",
              "      <td>11.72</td>\n",
              "    </tr>\n",
              "  </tbody>\n",
              "</table>\n",
              "</div>\n",
              "    <div class=\"colab-df-buttons\">\n",
              "\n",
              "  <div class=\"colab-df-container\">\n",
              "    <button class=\"colab-df-convert\" onclick=\"convertToInteractive('df-bac263c7-3f43-429c-9760-452ccb50768d')\"\n",
              "            title=\"Convert this dataframe to an interactive table.\"\n",
              "            style=\"display:none;\">\n",
              "\n",
              "  <svg xmlns=\"http://www.w3.org/2000/svg\" height=\"24px\" viewBox=\"0 -960 960 960\">\n",
              "    <path d=\"M120-120v-720h720v720H120Zm60-500h600v-160H180v160Zm220 220h160v-160H400v160Zm0 220h160v-160H400v160ZM180-400h160v-160H180v160Zm440 0h160v-160H620v160ZM180-180h160v-160H180v160Zm440 0h160v-160H620v160Z\"/>\n",
              "  </svg>\n",
              "    </button>\n",
              "\n",
              "  <style>\n",
              "    .colab-df-container {\n",
              "      display:flex;\n",
              "      gap: 12px;\n",
              "    }\n",
              "\n",
              "    .colab-df-convert {\n",
              "      background-color: #E8F0FE;\n",
              "      border: none;\n",
              "      border-radius: 50%;\n",
              "      cursor: pointer;\n",
              "      display: none;\n",
              "      fill: #1967D2;\n",
              "      height: 32px;\n",
              "      padding: 0 0 0 0;\n",
              "      width: 32px;\n",
              "    }\n",
              "\n",
              "    .colab-df-convert:hover {\n",
              "      background-color: #E2EBFA;\n",
              "      box-shadow: 0px 1px 2px rgba(60, 64, 67, 0.3), 0px 1px 3px 1px rgba(60, 64, 67, 0.15);\n",
              "      fill: #174EA6;\n",
              "    }\n",
              "\n",
              "    .colab-df-buttons div {\n",
              "      margin-bottom: 4px;\n",
              "    }\n",
              "\n",
              "    [theme=dark] .colab-df-convert {\n",
              "      background-color: #3B4455;\n",
              "      fill: #D2E3FC;\n",
              "    }\n",
              "\n",
              "    [theme=dark] .colab-df-convert:hover {\n",
              "      background-color: #434B5C;\n",
              "      box-shadow: 0px 1px 3px 1px rgba(0, 0, 0, 0.15);\n",
              "      filter: drop-shadow(0px 1px 2px rgba(0, 0, 0, 0.3));\n",
              "      fill: #FFFFFF;\n",
              "    }\n",
              "  </style>\n",
              "\n",
              "    <script>\n",
              "      const buttonEl =\n",
              "        document.querySelector('#df-bac263c7-3f43-429c-9760-452ccb50768d button.colab-df-convert');\n",
              "      buttonEl.style.display =\n",
              "        google.colab.kernel.accessAllowed ? 'block' : 'none';\n",
              "\n",
              "      async function convertToInteractive(key) {\n",
              "        const element = document.querySelector('#df-bac263c7-3f43-429c-9760-452ccb50768d');\n",
              "        const dataTable =\n",
              "          await google.colab.kernel.invokeFunction('convertToInteractive',\n",
              "                                                    [key], {});\n",
              "        if (!dataTable) return;\n",
              "\n",
              "        const docLinkHtml = 'Like what you see? Visit the ' +\n",
              "          '<a target=\"_blank\" href=https://colab.research.google.com/notebooks/data_table.ipynb>data table notebook</a>'\n",
              "          + ' to learn more about interactive tables.';\n",
              "        element.innerHTML = '';\n",
              "        dataTable['output_type'] = 'display_data';\n",
              "        await google.colab.output.renderOutput(dataTable, element);\n",
              "        const docLink = document.createElement('div');\n",
              "        docLink.innerHTML = docLinkHtml;\n",
              "        element.appendChild(docLink);\n",
              "      }\n",
              "    </script>\n",
              "  </div>\n",
              "\n",
              "\n",
              "<div id=\"df-48dae25a-d367-45c0-aa52-1fb0e29aeec5\">\n",
              "  <button class=\"colab-df-quickchart\" onclick=\"quickchart('df-48dae25a-d367-45c0-aa52-1fb0e29aeec5')\"\n",
              "            title=\"Suggest charts.\"\n",
              "            style=\"display:none;\">\n",
              "\n",
              "<svg xmlns=\"http://www.w3.org/2000/svg\" height=\"24px\"viewBox=\"0 0 24 24\"\n",
              "     width=\"24px\">\n",
              "    <g>\n",
              "        <path d=\"M19 3H5c-1.1 0-2 .9-2 2v14c0 1.1.9 2 2 2h14c1.1 0 2-.9 2-2V5c0-1.1-.9-2-2-2zM9 17H7v-7h2v7zm4 0h-2V7h2v10zm4 0h-2v-4h2v4z\"/>\n",
              "    </g>\n",
              "</svg>\n",
              "  </button>\n",
              "\n",
              "<style>\n",
              "  .colab-df-quickchart {\n",
              "      --bg-color: #E8F0FE;\n",
              "      --fill-color: #1967D2;\n",
              "      --hover-bg-color: #E2EBFA;\n",
              "      --hover-fill-color: #174EA6;\n",
              "      --disabled-fill-color: #AAA;\n",
              "      --disabled-bg-color: #DDD;\n",
              "  }\n",
              "\n",
              "  [theme=dark] .colab-df-quickchart {\n",
              "      --bg-color: #3B4455;\n",
              "      --fill-color: #D2E3FC;\n",
              "      --hover-bg-color: #434B5C;\n",
              "      --hover-fill-color: #FFFFFF;\n",
              "      --disabled-bg-color: #3B4455;\n",
              "      --disabled-fill-color: #666;\n",
              "  }\n",
              "\n",
              "  .colab-df-quickchart {\n",
              "    background-color: var(--bg-color);\n",
              "    border: none;\n",
              "    border-radius: 50%;\n",
              "    cursor: pointer;\n",
              "    display: none;\n",
              "    fill: var(--fill-color);\n",
              "    height: 32px;\n",
              "    padding: 0;\n",
              "    width: 32px;\n",
              "  }\n",
              "\n",
              "  .colab-df-quickchart:hover {\n",
              "    background-color: var(--hover-bg-color);\n",
              "    box-shadow: 0 1px 2px rgba(60, 64, 67, 0.3), 0 1px 3px 1px rgba(60, 64, 67, 0.15);\n",
              "    fill: var(--button-hover-fill-color);\n",
              "  }\n",
              "\n",
              "  .colab-df-quickchart-complete:disabled,\n",
              "  .colab-df-quickchart-complete:disabled:hover {\n",
              "    background-color: var(--disabled-bg-color);\n",
              "    fill: var(--disabled-fill-color);\n",
              "    box-shadow: none;\n",
              "  }\n",
              "\n",
              "  .colab-df-spinner {\n",
              "    border: 2px solid var(--fill-color);\n",
              "    border-color: transparent;\n",
              "    border-bottom-color: var(--fill-color);\n",
              "    animation:\n",
              "      spin 1s steps(1) infinite;\n",
              "  }\n",
              "\n",
              "  @keyframes spin {\n",
              "    0% {\n",
              "      border-color: transparent;\n",
              "      border-bottom-color: var(--fill-color);\n",
              "      border-left-color: var(--fill-color);\n",
              "    }\n",
              "    20% {\n",
              "      border-color: transparent;\n",
              "      border-left-color: var(--fill-color);\n",
              "      border-top-color: var(--fill-color);\n",
              "    }\n",
              "    30% {\n",
              "      border-color: transparent;\n",
              "      border-left-color: var(--fill-color);\n",
              "      border-top-color: var(--fill-color);\n",
              "      border-right-color: var(--fill-color);\n",
              "    }\n",
              "    40% {\n",
              "      border-color: transparent;\n",
              "      border-right-color: var(--fill-color);\n",
              "      border-top-color: var(--fill-color);\n",
              "    }\n",
              "    60% {\n",
              "      border-color: transparent;\n",
              "      border-right-color: var(--fill-color);\n",
              "    }\n",
              "    80% {\n",
              "      border-color: transparent;\n",
              "      border-right-color: var(--fill-color);\n",
              "      border-bottom-color: var(--fill-color);\n",
              "    }\n",
              "    90% {\n",
              "      border-color: transparent;\n",
              "      border-bottom-color: var(--fill-color);\n",
              "    }\n",
              "  }\n",
              "</style>\n",
              "\n",
              "  <script>\n",
              "    async function quickchart(key) {\n",
              "      const quickchartButtonEl =\n",
              "        document.querySelector('#' + key + ' button');\n",
              "      quickchartButtonEl.disabled = true;  // To prevent multiple clicks.\n",
              "      quickchartButtonEl.classList.add('colab-df-spinner');\n",
              "      try {\n",
              "        const charts = await google.colab.kernel.invokeFunction(\n",
              "            'suggestCharts', [key], {});\n",
              "      } catch (error) {\n",
              "        console.error('Error during call to suggestCharts:', error);\n",
              "      }\n",
              "      quickchartButtonEl.classList.remove('colab-df-spinner');\n",
              "      quickchartButtonEl.classList.add('colab-df-quickchart-complete');\n",
              "    }\n",
              "    (() => {\n",
              "      let quickchartButtonEl =\n",
              "        document.querySelector('#df-48dae25a-d367-45c0-aa52-1fb0e29aeec5 button');\n",
              "      quickchartButtonEl.style.display =\n",
              "        google.colab.kernel.accessAllowed ? 'block' : 'none';\n",
              "    })();\n",
              "  </script>\n",
              "</div>\n",
              "    </div>\n",
              "  </div>\n"
            ]
          },
          "metadata": {},
          "execution_count": 141
        }
      ]
    },
    {
      "cell_type": "markdown",
      "source": [
        "#### Ahora veamos el algoritmo completo"
      ],
      "metadata": {
        "id": "bZ3cIZkfYK_U"
      }
    },
    {
      "cell_type": "code",
      "source": [
        "# @title iteremos hasta que el error sea de 1%\n",
        "from IPython.display import HTML, display, clear_output\n",
        "import matplotlib.pyplot as plt\n",
        "import matplotlib.animation as animation\n",
        "import numpy as np\n",
        "import sympy as sp\n",
        "import pandas as pd\n",
        "\n",
        "\n",
        "x = sp.symbols('x')\n",
        "\n",
        "y = sp.E**(-x)-x\n",
        "xi = 0\n",
        "\n",
        "print(\"La función es: \",y)\n",
        "\n",
        "columnas = ['xi','Xi+1','f(xi)',\"f'(Xi)\",'er(%)']\n",
        "tabla = pd.DataFrame(columns=columnas)\n",
        "\n",
        "tol = 1\n",
        "\n",
        "er = tol+1\n",
        "it = 1\n",
        "\n",
        "ims = []\n",
        "\n",
        "while er > tol:\n",
        "  fxi = round(y.subs({x: xi}), 4)\n",
        "\n",
        "  ##################\n",
        "  plt.figure()\n",
        "  fig, ax = plt.subplots()\n",
        "\n",
        "  r = np.linspace(-0.5,1, 100)\n",
        "  fx = [y.subs({x:x_i}) for x_i in r]\n",
        "\n",
        "  ax.plot(r,fx,color='blue',label=\"$e^{-x} - x$\")\n",
        "\n",
        "  ## Plano cartesiano (Ejes)\n",
        "  ax.vlines(x=0,ymin=min(fx)-0.1,ymax=max(fx)+0.1,color='k')\n",
        "  ax.hlines(y=0,xmin=min(r)-0.1,xmax=max(r)+0.1,color='k')\n",
        "\n",
        "  ## Punto inicial\n",
        "\n",
        "  ax.plot([xi],[fxi], color='red', marker='o', label=f'$(x_{it},f(x_{it}))= ({xi},{fxi})$')\n",
        "\n",
        "  ## Calculemos la derivada\n",
        "  dy = y.diff()\n",
        "  ## Evaluemos la derivada en x_i\n",
        "  dfxi = round(dy.subs({x:xi}),4)\n",
        "\n",
        "  ## Calculemos el x_i+1 (siguiente)\n",
        "  xs = round(xi - ((fxi)/(dfxi)),4)\n",
        "  ax.plot([xs],[0], color='red', marker='x', label=f'$(x_{it+1},0) = ({xs},0)$')\n",
        "\n",
        "  ## Pintar la recta tangente\n",
        "  h=0.1\n",
        "  dfx = (y.subs({x:xi+h})-y.subs({x:xi}))/h # derivative\n",
        "  tan = y.subs({x:xi})+dfx*(r-xi)  # tangent\n",
        "  ax.plot(r,tan,color='purple',linestyle='--',label=f\"${sp.latex(dy)}$\")\n",
        "\n",
        "  ax.set_title(\"$e^{-x} - x$\")\n",
        "  ax.grid()\n",
        "  ax.legend()\n",
        "  plt.show()\n",
        "\n",
        "  ## Calculo del error\n",
        "  er = np.abs((xs-xi)/(xs)) * 100\n",
        "\n",
        "  ## Actualicemos la tabla de iteraciones\n",
        "  nueva_fila = {'xi':xi,'Xi+1':xs,'f(xi)':fxi,\"f'(Xi)\":dfxi,'er(%)':round(er,4)}\n",
        "  nueva_fila = pd.DataFrame([nueva_fila])\n",
        "  tabla = pd.concat([tabla, nueva_fila], ignore_index=True)\n",
        "\n",
        "  display(HTML(tabla.head(it).to_html()))\n",
        "\n",
        "  #Actualizamos la iteración y el valor de x actual (xi)\n",
        "  it += 1\n",
        "  xi = xs\n",
        "\n",
        "  print(\"\")\n",
        "  input()\n",
        "  clear_output(wait=True)\n",
        "\n"
      ],
      "metadata": {
        "colab": {
          "base_uri": "https://localhost:8080/",
          "height": 631
        },
        "cellView": "form",
        "id": "uU0jc5v0VxFS",
        "outputId": "3b64bb60-1b2a-476c-850d-7e4ce135c90e"
      },
      "execution_count": 145,
      "outputs": [
        {
          "output_type": "display_data",
          "data": {
            "text/plain": [
              "<Figure size 640x480 with 0 Axes>"
            ]
          },
          "metadata": {}
        },
        {
          "output_type": "display_data",
          "data": {
            "text/plain": [
              "<Figure size 640x480 with 1 Axes>"
            ],
            "image/png": "[encoded data removed]"
          },
          "metadata": {}
        },
        {
          "output_type": "display_data",
          "data": {
            "text/plain": [
              "<IPython.core.display.HTML object>"
            ],
            "text/html": [
              "<table border=\"1\" class=\"dataframe\">\n",
              "  <thead>\n",
              "    <tr style=\"text-align: right;\">\n",
              "      <th></th>\n",
              "      <th>xi</th>\n",
              "      <th>Xi+1</th>\n",
              "      <th>f(xi)</th>\n",
              "      <th>f'(Xi)</th>\n",
              "      <th>er(%)</th>\n",
              "    </tr>\n",
              "  </thead>\n",
              "  <tbody>\n",
              "    <tr>\n",
              "      <th>0</th>\n",
              "      <td>0</td>\n",
              "      <td>0.5000</td>\n",
              "      <td>1</td>\n",
              "      <td>-2</td>\n",
              "      <td>100.0</td>\n",
              "    </tr>\n",
              "    <tr>\n",
              "      <th>1</th>\n",
              "      <td>0.5000</td>\n",
              "      <td>0.5664</td>\n",
              "      <td>0.1065</td>\n",
              "      <td>-1.605</td>\n",
              "      <td>11.72</td>\n",
              "    </tr>\n",
              "    <tr>\n",
              "      <th>2</th>\n",
              "      <td>0.5664</td>\n",
              "      <td>0.5672</td>\n",
              "      <td>0.0012</td>\n",
              "      <td>-1.568</td>\n",
              "      <td>0.1412</td>\n",
              "    </tr>\n",
              "  </tbody>\n",
              "</table>"
            ]
          },
          "metadata": {}
        },
        {
          "name": "stdout",
          "output_type": "stream",
          "text": [
            "\n",
            "\n"
          ]
        }
      ]
    },
    {
      "cell_type": "code",
      "source": [
        "# @title Grafico dinámico (movie del método)\n",
        "# Librerias necesarias para realizar el gráfico\n",
        "import numpy as np\n",
        "import matplotlib.pylab as plt\n",
        "from matplotlib import animation, rc\n",
        "from IPython.display import HTML;\n",
        "import sympy as sp\n",
        "rc('animation', html='html5');\n",
        "\n",
        "x = sp.symbols('x')\n",
        "y = sp.E**(-x)-x\n",
        "dy = y.diff()\n",
        "r = np.linspace(-0.5,1, 100)\n",
        "fx = [y.subs({x:x_i}) for x_i in r]\n",
        "\n",
        "fig, ax = plt.subplots()\n",
        "ax.plot(r,fx,color='blue',label=\"$e^{-x} - x$\")\n",
        "\n",
        "## Plano cartesiano (Ejes)\n",
        "ax.vlines(x=0,ymin=min(fx)-0.1,ymax=max(fx)+0.1,color='k')\n",
        "ax.hlines(y=0,xmin=min(r)-0.1,xmax=max(r)+0.1,color='k')\n",
        "ax.set_title(\"$e^{-x} - x$\")\n",
        "ax.grid()\n",
        "\n",
        "# Se definen los atributos que debe tener la linea o en este caso el punto que se va a pintar en cada iteracion\n",
        "linea1, = ax.plot([],[],'o',color = 'r', label = '')\n",
        "linea2, = ax.plot([],[],'x',color = 'r', label = '')\n",
        "linea3, = ax.plot([],[],'--',color = 'purple', label = '')\n",
        "\n",
        "frames = len(tabla)\n",
        "\n",
        "def graficar(i):\n",
        "\n",
        "  xg = tabla['xi'].to_list()\n",
        "  yg = tabla['f(xi)'].to_list()\n",
        "\n",
        "  xs = tabla['Xi+1'].to_list()\n",
        "  ys = tabla[\"f'(Xi)\"].to_list()\n",
        "\n",
        "  linea1.set_data(xg[i],yg[i])\n",
        "  linea1.set_label(f'$(x_{i},f(x_{i}))= ({xg[i]},{yg[i]})$')\n",
        "\n",
        "\n",
        "  linea1.set_data(xs[i],0)\n",
        "  linea2.set_label(f'$(x_{i},0) = ({xs[i]},0)$')\n",
        "\n",
        "  ## Pintar la recta tangente\n",
        "  h=0.1\n",
        "  dfx = (y.subs({x:xg[i]+h})-y.subs({x:xg[i]}))/h # derivative\n",
        "  tan = y.subs({x:xg[i]})+dfx*(r-xg[i])  # tangent\n",
        "  linea3.set_data(r,tan)\n",
        "  linea3.set_label(f\"${sp.latex(dy)}$\")\n",
        "\n",
        "  ax.legend()\n",
        "  return (linea1,linea2,linea3,)\n",
        "\n",
        "plt.close()\n",
        "\n"
      ],
      "metadata": {
        "id": "O6jrIHTklTm8"
      },
      "execution_count": 150,
      "outputs": []
    },
    {
      "cell_type": "code",
      "source": [
        "# Ejecutamos la animación para que se genere y quede en loop mostrando su resultado.\n",
        "anim = animation.FuncAnimation(fig, graficar, frames=frames, interval=1000,repeat=False)\n",
        "anim"
      ],
      "metadata": {
        "colab": {
          "base_uri": "https://localhost:8080/",
          "height": 591
        },
        "id": "umSn8oYRo8tt",
        "outputId": "74cea4f5-c7e9-44a7-e196-9eb7445e178a"
      },
      "execution_count": 151,
      "outputs": [
        {
          "output_type": "stream",
          "name": "stderr",
          "text": [
            "<ipython-input-150-276efacf074c>:40: MatplotlibDeprecationWarning: Setting data with a non sequence type is deprecated since 3.7 and will be remove two minor releases later\n",
            "  linea1.set_data(xg[i],yg[i])\n",
            "<ipython-input-150-276efacf074c>:44: MatplotlibDeprecationWarning: Setting data with a non sequence type is deprecated since 3.7 and will be remove two minor releases later\n",
            "  linea1.set_data(xs[i],0)\n"
          ]
        },
        {
          "output_type": "execute_result",
          "data": {
            "text/plain": [
              "<matplotlib.animation.FuncAnimation at 0x7951e1352b90>"
            ],
            "text/html": [
              "<video width=\"640\" height=\"480\" controls autoplay>\n",
              "  <source type=\"video/mp4\" src=\"data:video/mp4;base64,AAAAIGZ0eXBNNFYgAAACAE00ViBpc29taXNvMmF2YzEAAAAIZnJlZQAAZN9tZGF0AAACrQYF//+p\n",
              "3EXpvebZSLeWLNgg2SPu73gyNjQgLSBjb3JlIDE2MyByMzA2MCA1ZGI2YWE2IC0gSC4yNjQvTVBF\n",
              "Ry00IEFWQyBjb2RlYyAtIENvcHlsZWZ0IDIwMDMtMjAyMSAtIGh0dHA6Ly93d3cudmlkZW9sYW4u\n",
              "b3JnL3gyNjQuaHRtbCAtIG9wdGlvbnM6IGNhYmFjPTEgcmVmPTMgZGVibG9jaz0xOjA6MCBhbmFs\n",
              "eXNlPTB4MzoweDExMyBtZT1oZXggc3VibWU9NyBwc3k9MSBwc3lfcmQ9MS4wMDowLjAwIG1peGVk\n",
              "X3JlZj0xIG1lX3JhbmdlPTE2IGNocm9tYV9tZT0xIHRyZWxsaXM9MSA4eDhkY3Q9MSBjcW09MCBk\n",
              "ZWFkem9uZT0yMSwxMSBmYXN0X3Bza2lwPTEgY2hyb21hX3FwX29mZnNldD0tMiB0aHJlYWRzPTMg\n",
              "bG9va2FoZWFkX3RocmVhZHM9MSBzbGljZWRfdGhyZWFkcz0wIG5yPTAgZGVjaW1hdGU9MSBpbnRl\n",
              "cmxhY2VkPTAgYmx1cmF5X2NvbXBhdD0wIGNvbnN0cmFpbmVkX2ludHJhPTAgYmZyYW1lcz0zIGJf\n",
              "cHlyYW1pZD0yIGJfYWRhcHQ9MSBiX2JpYXM9MCBkaXJlY3Q9MSB3ZWlnaHRiPTEgb3Blbl9nb3A9\n",
              "MCB3ZWlnaHRwPTIga2V5aW50PTI1MCBrZXlpbnRfbWluPTEgc2NlbmVjdXQ9NDAgaW50cmFfcmVm\n",
              "cmVzaD0wIHJjX2xvb2thaGVhZD00MCByYz1jcmYgbWJ0cmVlPTEgY3JmPTIzLjAgcWNvbXA9MC42\n",
              "MCBxcG1pbj0wIHFwbWF4PTY5IHFwc3RlcD00IGlwX3JhdGlvPTEuNDAgYXE9MToxLjAwAIAAADlT\n",
              "ZYiEABf//vfUt8yy7VNvtguo96KeJl9DdSUBm5bE7TqAAAADAAADAAAevBc4Al+JCvOvAAADAMqI\n",
              "/R/5Rwq4gBbgsl+foP2j/PCpVf+IoUG9YNAWSZguv8QI1vkHI/Y//B//X0ObzQFARqE72GRpL8c9\n",
              "hywFWlLAUOVXBU/rZmUnzov7dDa9JhLK/b/yCxrh3srxFGj1Z/rXQCwNorMg6k9pBjKSCQ0xjb+K\n",
              "Rry30NTgK8Gkc6h2RbOKT5Yp3fH/ssDEyHjO/Lc9b14+WFNyRQXCDJt33xfv3+3MEVf4k+XuTg2p\n",
              "yIKFYwaP5ttBEryy7z5WcOuTpBAcSi376uWXAUzS5lTt/RfDNKgAvG+umMRce1Q78iaYps3tpv/A\n",
              "DA2c9pigwqwf2dNPVnPk+oPiCswOMAtyIP04kXE2vSgYz4h7bXJYolR2q0vrOeRRjRnioQfof6Fv\n",
              "+smHNFWOLW2T4tt/6o9D3tOXAcwnMusTbPkcM9JC1pA7rO3fk3CjDNCO4Nf9vwfLBqV/qYBbwGzh\n",
              "uXxEp8AGJysJRdiLA8V+njysl2OYgW8w6zRvjVn3SfQFqw0d6fqvevEpF98QDZRsgM6nfZg3dB/P\n",
              "xlvwd7mT56W8lklXFxAK/1V/GDC1fm28tkl5twlcvokUFVsSb/wM2ThbLV0ZE8xzvGAPmUcKXpsY\n",
              "3JKRosM7ePEmY4rg2a68hX8hOb/E/0Xp84DWKyXCfMFfkrNQdC/nOOi4hak0+L/5HNx20oKk8Ttz\n",
              "d6OCKFByTWpolEaPljw+r7ypLrxo81n0ivUah8mAC79/o7CBThval2Fe4FRaj8aUXZ/61+UQ2vtL\n",
              "o19JbgU6IMFktDGygOoRkUtAGlsjbJYvifn4NQ/9LHQLX49XZbYXqdQN22dytzGB4GOhAuHla6TK\n",
              "gmh9IAAEWq8vPq6K9jlQjI7fmTzehiJx7JdW3RU10v14TR+9v07SmumjYYI/18RUuBjsH+WB7SqN\n",
              "nfaA3xP889gmjfAFTAs65Cu1RK3ufvhJ8wjC3+Bmi61+Q+mDC5Cqse159xDEQ/3XwacpmFw6vaIN\n",
              "Y8wU3enZ1b7LRghD1PAjY6F0oHYd7ilQk03eq87qh2XhhaRtBk48Dn8uLyH4MjOBLYadqe1xUz7S\n",
              "oHfrDYstG01AcyCmLIC5E3gvOJ+vMP7UX9wsqcmGJr51XG0kgl/FKqlAquAufz5RK3TKo8FdIG4U\n",
              "N0cWHyMzeUQt3uWwhTS8hxZAp/63+iaGtwea5aec2c7SxIHqBoHAFZpMaCQnHw3IHi4z6GNeofgC\n",
              "QkCpVqE77+eFAx8O2SPCQGiagJK22wnmlRs8dvB2ynBaptEkZ8VrtdSh+7y2nnvPq/rmbNCu8QVF\n",
              "t+PWTXGkt47JhoRO+4FIa4MTRFg4lyDjIKft3oN6PR/nX1KQHcQP/p3fVhq3O29xFUellVGSlfuz\n",
              "ZpVU8sJgXq4FkqNoVK8tqZGpUXR6270FImkhIU444C9MLkg6febsmOxBMGB0hdQ5nSRyL9YpbgSN\n",
              "3glHuvpuubfmnuGT8pdHnz1pvEA0P/mZ2LAACWjn36HJSn1s/VsmbS6x1J8kGmbJNpJpzsQJ8Lz4\n",
              "5uVs/L9l+xSgDkX3dzRX/a5Uwh7cPzbanaE3M4t8JAFukqF588R98NSYFvbDIBA/7EbFFfyMkfYP\n",
              "hKK+WodEjP0O+1heQ7flwf52YpvbrP8BlfmFXYYewNHeeluL7MJwPKnPibGZIFVw25F27/PxnGS7\n",
              "XG210y5mNSuNSLIyHKZGsNUKunxBVuC9z6poXbBfVdPeA9xQFlolrVmJS+n9570+ubsOb6koDFZf\n",
              "KZWz5+VqXT8+2MF+sGr3fTSbckkmi/iDkOC1R161JiJPYzAPrzxBsFE7tbEPqLM7266c6i9EKYR2\n",
              "/khG9fpjWaw2x9e5Bna08/nEpF7zd6Hatg7b8hYx+JiPTiucCh7Nsf3YXfkSZw2tFedOTdEA2mRb\n",
              "3tePLsaxJEoGa6voJt4LSQvYj+hXDCkQpIG1w2YYQ8rjqMgGxTpkKyLiwOQvloXm0DjDsnwH6PfV\n",
              "ejk42tc34+YFQ1Z4WpylgmXSrQgSMxGZWxf0RrGcwdfRxFNZb2Hs9zaOF4Z4+qAXsIUKxnxECgMC\n",
              "Asybprw/uEGZoZZCjGszp1ipR7Renpa54aTzr+BrSyS+pjvB1qzpqVvaZsNBHk+XdXJn1CSUEotR\n",
              "ihQE570CPOJz4Jk8NLrgS5wEbo9IptTktWqBsxEjjlxsEhyDNirY15kA1xEJh06B+lusfT0xbmj5\n",
              "Gd9cmDBhun9kQRifmJBG2IdS9HbRvL4cAXZIXQK2Nt7U86frspU12VfrasVMHwRaJMYEUOz062ui\n",
              "KdByeCKfloewhpAMzlIsSV8C3t7y2Vsulxw1HTeRcVpLcdoBUjyQruYG/sZtWR96vq5F99hnTh05\n",
              "/JIB5iHInUdvUxq3xBDWWfG0QqoZMMtWY3GL9VkpQO/Ii6Tes+wTHvOTV87qh2C5st1Y+EVsNahD\n",
              "3o5LAkgX7yGJwZePkLLGpv42VGg+M7mSaQknXuDbKtaW1z9Ei62RyoHlrNEtigGnYukZRdsCzoRN\n",
              "3c1s+YXz7dHU8GWjOCfjT1S3rTfs4dvFTao8gNTfM0Mm5sqpSWitTzxS9FqNtRKL3CdD0bi+mNXF\n",
              "dv81Z6YwP4hKDsBF0YTjGdWVQVgrnkgoJcrGukpiviVMrqs+9Vbs5bvbtfHjlBTQ4Nb+/vjjMqpL\n",
              "Fovy5UMvY2YIVdBWOxhMhiwf/aaLCL/ZFxpHeCXOzhRXS0Mj94bnxG8MBcuUyYn2GeHB5WGlRnyK\n",
              "N8O3HX1N20IJ4gt6PWubky8coH+infBclEnfhGxRKeNH2OownwGZ+rmNLSzdmxXaT09tOZDHL2C2\n",
              "yHXM6r/sgnHmW3HQJPJCP14zFCbLK6c4VuPgHEEnQgL3QijlcVUDWyp2sxTWoTf0OzoePJSC+RHj\n",
              "Js058xrQRaO4jiCfdXC49GvpPbsyu/8XqatNgMIDA4mZhvqP09Gggbx106cFBARZ6N26t+i7rXmR\n",
              "SHfddFYpIxn7gOiybubiuBVOWjgRQzOcuKl5cBtd1A8nYzuMaeFwAduSxWlZZ0ZoAwFRgz8ZLhe1\n",
              "4mFMiEPxvqIiA53Ql9loEjtC7J79M8eqMT/ccOUlGwWcXXXqFO98KSkkNzdKmYXccM+7KbHBqq4C\n",
              "NGPlg8X5kYbJx0pSC8NOJ2gRVS4UdyRV/5x7xbjmTIDYec59fnpqGENueCkGW6lIS927t5a9AhBZ\n",
              "N0b+97FSCDUUun7JsZQ/+2FW7uiES9822jnPOhNkdxI3E615kUh325WBwPr5XBFUzl8e4+oC9jiN\n",
              "LrNA6MAoR1/yXUB/pusI8UB/2ctyo+O2RrWX/aqxPz/2Z95zecNBf1CAHt+BU5/4oE8RpTu8OWnx\n",
              "MgDwQHH6DvPTwLIvIv49sA+cBQk3vc+oXW/4y232yG1D2Cv+4AKmqbYURoGwHqk2fzfcN9/+PS//\n",
              "7KenK99PZPzte1Ny8cs66814pa0EawYhPzq3h0COPEf7laCRIZYS8OVYR94GgyCOLzk6TVHdFaVz\n",
              "I/F2UAxzU4eDrR1qDV1AkN6BwSe3XYDjWtRf1yP5ol7UeKy/hLfE4vPFe/TCB2rOXxiNKnVvWuZ3\n",
              "GWVUbRF9x5mfhXyadjP/w+uYbmdgdNUabUYX9X7iVa6b+URHtLwzud1Z9LP6dR4TmRVVStirBOMu\n",
              "P0jgnupkUOQrL1ZJD/l9hUMH+hjk4gwtxxfpJYHGGfdbPqMR1TisZzLwvn0XP8lpW5AO1QKb71Mn\n",
              "NrpBPSooqHjoTSzJTmh/4qTdN9Q+2bMtxfeeaOaw5Mr7xp/XbCpTOTowNaADBpPf2FsZXokhYJ1Q\n",
              "vSHdAaAI/q3olmWeNP5MmleOkrtWt2u2ER3aRr0TRh2PMOWWb53j1o9P/KARgLPX+8QGylo56Jxz\n",
              "WQXOqKdkoJN3XJOjWJEzfWXNPNisTTbiegIPsVez7ulsNNLILsCwOYFQkpX7JoHFgSIDP+MI0xW3\n",
              "/kyLewMalWg2zTd7KMLjJHRpyEqzpJ1H5X4r7yctw8NNvLs3ctRYh8kpaiUH4untxkDEE0ncBvuE\n",
              "xsXUBG3kj8pjZaw+DWK1vNfkvJ5DZAfR/JMsFuHS4HISw1np0EwTpJk58pvJqqaG0c6zeRq3P0rB\n",
              "PQdBb13YVGcOXsbBT5f1eiyPlCIiBCvCnj7pP4e+ca7n/j+R1LxGI+0Sng87/mb6KFuLR5k+wXF9\n",
              "AETMRI1T8rad3WeDASvvDwq/DYyhLyO1yX13IY8HvL55i3RbKlAHaU4bkMG3lhtdEFsrTKqsX6Z/\n",
              "TPmAQROkqJEwQNMdLntNI+umfxQqXXZjndO/QDzZ6/UorNfeNr3FX/3rNilZfHKnlGsZYH1xaGti\n",
              "ouB3gWbUsqhWOobW+Sy+/UJ1nmxqvDcdpSzOW530VGpFXRYbjQ/0+S4Q2okH3otkVP5goLf7sKih\n",
              "rLfUx6d2elP+q9OENrzIV5Ccdo5p7BiXNBfQr8boLhbHenCIXJCzJtyRnC+BhXxR1SYCmvcUbcjl\n",
              "V/sFU0cy/K2QRufwdGtIImI+tHDWh4G5BAPpmAtxbMzbg7z1a22bqkx9XUlCBauSqH5PJKVXXkyb\n",
              "iE5XNCx3re6J5LSV3F2xU0JVv+z/WpFhFAQy75UIGlaBr7zyvyK6LSu7FOpE6DYjb/7tqrtlbL3b\n",
              "uY6RIPkLRbIRZuqHQbRMR78SSCZt6WakgALv+c5Mzc7PUw/9/rKgisaYXY/d6u/VKjT2/ysFh04T\n",
              "MpjR1VQpfL+iM5iMhzv0fv1DiFzithDDNpYhMbv4TqRBs8fv9wARA1YD8+1/gQKXPmK/rEeY1HsN\n",
              "n1/oWs5JYUUmS+JikgBhpOoYcusxkL6PGEGy9EMfCLc8pdE411vrFlxu6yqk1Wey0SDRlGUGKloS\n",
              "JnM3fKsJ4AuUJf/rEvd0Fg03PJCuxUKC1xnWfjUTwYWo9wMLNl+tZh2UPtRFNrQ/wyhYSA+M630L\n",
              "8SYNmsV7BkNFqIZIvcf0mdHH73Dopm+DQUq8guR+5huGqqN5bLgDBkBBjMNCiqQSPxlZf+BNQHzx\n",
              "oP184ljFBUMEb2s9URtf4PtoyHtJqL1Laiu/89IHapESR4Stq3yF34GDmn6EULkSdlyQQTPtpSan\n",
              "qFFZ4wcJg6N+eQzo7ZqPPqxZrGa6vn8+5yVzVRraBJrFbuE5mbTIk/w9JQciiED6U1gmXGCRgAss\n",
              "ofkj9tKKUgihQEnQmyj4DUen8V76JEP8Y7/qzy1+yNfQd1RGIqWzTCxU/TXqF73Cn9uf5iA3JntN\n",
              "Y0lsMgND7sVqz5vNL20XoVvRoAnlCRJtL+H4VNi4ch+l1pNuiVb5xQ9sV29zZ1jaTwIeJEkx6TgK\n",
              "SkpWSYP6EYJEWzgTwe2SBD+I7MrTXtoqU8kLElBSpGygQew8N+eipVKntL90gdjldzxOa4+xQ8wi\n",
              "EZQdl27wgzzyj1DkCfQILfFIX49sieSAJxtBLV+bNwz5WrM769mmbiqu0medyk9vpCkj8a874aA+\n",
              "dYXNViJffr4zqKivCwonHI6cp5YDMq9SMEeb76N7XvtNG5+tW+IMLcqghRcWXavUJk0UT7sRaPbZ\n",
              "ISCBmdmsuiB0PTtZkZc+XyXmAtzyBMmRPpB1DZW25G1Qw32CJ/TWyefcX+i3VHg4T3NInsoBrLxr\n",
              "PecoIXGEVVdhC8EeKiXxkO6uHuBol69xhwBvyX+V2lRgXs8z1dC+ESjBKAa9bG1kWV1we5E1GxjN\n",
              "VTkfsLmrkdDkvGn9cWToP1YZclOy/3dDFdC3Vt1m4va25rOl6R7HfdYSIDzkomRPH+w3FuNSEs6n\n",
              "eJ6iBGwXxI6nGkzUBc6eKAW7i39fMOZq4ilaJaNMf3sh/4Kc/woeJrvPZgthPsqBvk0aynmqCXsJ\n",
              "TO+gzSmULuw+2OBCKVD3GRQv9jeuKBrXJTa11H48lz7HqBptm/miGWwC9q0iNNhlOonr70feMa91\n",
              "nwNz0q6rtE/nGVQJCFHaogsWVLFVGmFyk8APE1eAqSfuPajLra/H50cL3J3iktXwqDhHrWy7/kmx\n",
              "6UjzjPDO/bdSPxh4dMQtNXpGfV1kijSsSwg+YQA/JCllcAzRoSLAIOTbm6Z0CWgjhor7r0e312ua\n",
              "JPM3PZqI2aqQkfrgspCbCoVgWxBX4nO9+MLc0VYhq6qMJh6ob2baPq8CH7ahEkgJjnQVtHBlq+V+\n",
              "WVLI8lX6jFzsS4miYlOkEkG8yXUJgibQoj43KkQEDK2ROou1Z0R1Vn90ZO7cwfAnbjEYDZCf9ckT\n",
              "/6QqEPve57D++7aGICgtZxVuaD9iuWyrYrWi0vEDk/tQGoGD4+0nn+Qq1UwpRkGmwEq2OYI1wqoX\n",
              "844YbiYGbVypOGMO44hn7RCxPXvQRC/Sazu6F1MAlkUaVsUKw6/Jy5cw4H0E5nl+3DUu4UzLIU0h\n",
              "I7jCbOw+NPXvG7cPkKFOiydKmSw53n0SAj+TihAmzf4zNBXrfItouXArZGhDtfHVFkMcZbOIc3Jr\n",
              "zczHdBB/5EdtciFQqm2eAQ4/SYWm1RsxmGjvLxD6knRFnjGVzcCOnEp0vvGGPq66oNzaDW9U1yPj\n",
              "+0p+M3PBCimUQq6/mLJqcXDV+tl32Jrtf3ZYvh6W+At2+KQZ6eAFJYtdzhVop5LMwLV9rW+LaHrF\n",
              "fzdvGhMbQWWjGYpxCLxDvxT1G6LDlvfsgHGQ6JcBUunvg5twVUjFkLRHv6kry3dk9KMjNLoKQ92l\n",
              "d4PCiE2EWgWJozcIsHZNrEKqq7+OqhlP9SRLb9XOJu62acyxD5IqgDr/gPZOcpXOyUC/OYuwKaWI\n",
              "gZR8KFMBXGt8mPyEPv6k2YODt6dOLy+k2BBX47kDLTibMR4r5+nY0RTjZAb/AhrZKtfM/In4LZ2Q\n",
              "O2vEVSGSjzLOSMNglb3EZDbS17kBhlViKfPEXjO4oROjIC/WhXflsk07AM4nsv4lEExwSiBhKwWu\n",
              "lG1G7ArZ1gHaHVYoV/W+23EKax48zD3wKkybO2rCi1b4o7qvM+5/CQSTcrgzMwSUjUaTF1O/HP+n\n",
              "3XcQaohv4FJIzAPefduIF/uxtV4DrgFKnUIQXO68Skf9gheD/WM+S3Xc/Y/7pDDJXRhSscz0u9Ep\n",
              "vgvn4Ejtjo8PKCwdRkH6LeuH2rCCOQuPaAV4tOz6wv1gU7mPexexFeqHru73T07FfEuXY2lbhw3/\n",
              "pouox6JVN/PXPi5bHyh6YzSoXtPb/aJkcnd9HaO1MdalqJZMRO6b0Ykl0AqitN3z+tma74cBDMuL\n",
              "PULbWd0UmK7vt7FND9/aefmIMm+m2s1b8dLwMBdGK12omoEjk1fHEDrA0Mj7YWraqwrj/EwOEeLX\n",
              "vLu6HBIM5IHexMpBBxioUoNNL76MiCctRlNxL1Vt/8V894QG/d7pvyD4bz/oRRcQF6v1s9/pPvP+\n",
              "t0QqifFUUYpUQSLOaseGOasvoLMtL15EhQArSLm3LqDtfPMZJJ5qiUBgRwcsYhu/LynI2aQ90+d8\n",
              "u0kTqdgtOoQ+ZEkp4X9pWWuNku/iyWyusbMACRVMQB9A0ZN3uUSGY+OjY3+OzLM5vCJApQL2ZwdB\n",
              "EEBGNBhqOZOfYf0oVX/tbXOUpqJNAF3DtMsV+VPyMuC2BIjm5mcVrIRo38l4UbsGxxhiWXRo57AU\n",
              "U1crfqMnyborxC5JUFrmL0j1lvb7TJkaTLcei/rQNcETUNzHwX9lwnYLnV9StOe0mVzY1SxLdiLj\n",
              "4sutwIDTRhKLSnnurR485ZKQNvN+ZnkSYqezhz+di6l+42jTzZ5B4dDp1FKsVA+IBqkW9jTTBeCM\n",
              "bUVzrTey9ordvqjzzORZyXqUG+HTJIHdzxEw48tsnv45xXc+aqokjJOoNr72rYHzlm0h3bZIkEkw\n",
              "WdEyfMzJdTGPIUNFUqJx9+lNMl6zOjBN8E50xYY8Ktq9F5yjVQXtBNYF2yG/Fgfcmaqaj16oPZ/J\n",
              "5Fb4fzXBdDLbURPfgAGGmnw6uUtd0WVoDypSPxzOGULPP7E6a1kRdyKbKgJvSvoVOdgnzcBubbbY\n",
              "wW5SKNL7TUh2g4aa30NI9QDmgQp1opEOKXQvmewFe7yeFHziBLKLY4ioOplhYhr1djT3mtC8XYPY\n",
              "9LKXb2tcRcx2+Rnxqoyg6rQDxW9yyyjuEQJfPL5pZgdXFbh4uEBYkPE12St8mqSR4ukULW2Xnta3\n",
              "W27SeSirHcIYuED2GCc2G3m7T0owlmcpN3trXEhMmD0B/T3FC8UPkmdFZTuJYT3qxuJ8se7c+/tw\n",
              "h20PWo3BxUF+MiZZqt6PYUVNxc2R4+BLfeDmZFVzzHfKXbzP9fHQY1MeMGQZkvM1c9MnWU0WaZD3\n",
              "8LdAXp9Z3l089SLhcFEMGYSZ7cvytfm7THQvEgcvGMSdMOPkR63TKRZpHfnhFRSrGxUAVEYKTOpr\n",
              "Oi81KzQE2DZFVB5h3Fdtmspe261ZUlkACgH7zv++sxCJAcY54WsFfJJYF+cQIcBDaIzqZhSGIyTM\n",
              "in07yq/I7OyYfpyDPvPbuJDkvqRWaRWaiei381/DPVUN22S32tEnie+6NLghgOOndw3sKVCNKHwa\n",
              "yatA39GbYvfXM9juXAT8P6GIlb5izt7NsxhX+c7pR1q41zI5c7AoTZiSmby+GKLIW49LF91lZfHx\n",
              "5xFDUQOSgjmyNCCbi3JDSu6oEwIcpjKBl+yOL1I+WEsCupcgALeh0mmAOC+uokYsHKvFGPbhK3I9\n",
              "U6ctcj55BauUzeOrAPI4/VLOedNWmxQ6oz5U9TWNUHx2DfUiKZ4EjUoXZxQ+pJGjRNDCyAVGEejn\n",
              "9VoqheFar6Guzbk4oDQOVJs2eQaV04HaBU5aHuxRqQxzVB1r/vNyQj6esx6JyUmRcutFvntfxoi2\n",
              "JBircu+rzAwE4B8rD6hOGCUmoZUTHZ1dU7IO38IiercJh0RvYx/+CC2ejcB3QJ1/2l7NhPPiMO1Y\n",
              "Bne6X6JNsTrW2yRjlYe8Wqze2wDkqofgmqycfy6hCfyGVRHczOym+P5J1kfPw81iBn4QHsx9pUwh\n",
              "2WQIxr64nz0yB1qoJ0FinlR5mXLNpzfBX3Umrm+Ucb97waj+CtPZDviGYAaeaWaEwdPJyeaWWMQd\n",
              "fOrf/YYaSVEFp8vcOKcguT+80JJZVJ9VV1Z15fo4JtOerAjjzfpKADveCb7bfVdSj26gmmb7ctZs\n",
              "FQY//GC7KKEkABGMgX1MUUeSjVrrYUtfk4au6zUssUnypo1Py0drvg+/NeC7ibsb3xMs1+f9Ux44\n",
              "F2IT+GGRbimWnA2gI7XK2XeU/RjxEH6Ce10dNtA4LK6NKrfBmHPl9xIIGF3AHZGH236hWnNuw4Eu\n",
              "s1QE5Yr8LEWECGuiXs/L5baSpIUn29L0SlzozDAvTxLiYheFizXiPq1jplSHuwIHqceOMeUFhCuE\n",
              "GtS9vH64DI8sxwwOIAhxbHdSv3qPinfZWrS7b/CE2WMUkeHbl2aubypAcSWCnbb5AQqwhttRDkNE\n",
              "f18an27AEfDcy8ZQFWM+V+ckL/VKOb6odMSMkSScs5SmIPfnrZudNZv/4HkAVDInMAgMbnGY1lyW\n",
              "h17nRUEmqPkSS78B9wi6YOlwiHJrOv33ZNumLilIywcyBVqUrp+gfYaJrm13Mc5JDMvAfB+g7ZXO\n",
              "KqYx41pXr4dQ6LBl/rPHP5rRLJdMcAH+qERRITEpqpckU6nVg5TwgLjnds1IFp6dEmXryvB1sjDD\n",
              "dXr107kISngUSnSudbnYgIbtN8n14RCRlApBea2ONSzO5OHMrZ+GrJG3fpTqzmmq0NLzx5CEW5yb\n",
              "i7eL/mBYdifiEOPOu+rHdQBBuR3lkHeO2981jkWFESKTtsPl/IqT5WMkMcqTF9DTfvkzD8i77rMc\n",
              "WvAi1XZUQW5qvRwOIh476XAAADzr7LGgnR729SfGWOf6uh7aqPUhLfSaE8kjet0qxNZn3yKB8Z91\n",
              "vh2YDl6Qq4odzVbw9BfgG50P/pgIgjk8XE7fnkm0UqI96zK3KmGKnGICkY+oiXzoIbczKzL7+VH8\n",
              "LOrb08G7l5B/NnXusOZjvKXXAkZs704lZ/iN7crcRqhA7s78c254K1ooTtI02ql+KRJzQiYNQZR/\n",
              "dwN8dw6ISsdVInePrLWzV5++enkKF6gqLlcFlh6xyb7XXWBmgSzoay+mRCEM5l8Q4ywZHJRHzvBx\n",
              "RT6IVkTsRrMvYtDwV+5gQaxeiXm7vjBzgp/jiFaj4vrgLU+sGkoNvIxAjdn5aFonMBF8iZ9qMJHP\n",
              "bL2jdvvm77ICtRixfVafOpgxaqBOxdh2mXolKigwaNG9HerDG/9RmrBvzUgCaqPMieo/qTFuajor\n",
              "O3LW2JaI1l6py6/aToCs2KyE5pLubjbf0piIIUkjJo9/hXLkDhqEN4lyPGAEALdQ8+q6zkB9OqUa\n",
              "+ButH7hNdev+DtPJI2Ij2wF2jNp0eSiZfIQZ96LIQZaJuyDpHD9t6mMvzc4cfsD9rctgZ3AlPuNK\n",
              "6Fk29p8GaPDRppYX9m8gGG59/fV68hGmyMLUEFfGs/3Ncjoc6wc2eOjCX90IzbtjbXe2+ACzL19t\n",
              "0QqVBY1cd/Gso/ln0INEA8LTLTMBsAxLIcqUoUCsGoIQkNl9Ui22HSo7Ot1+5opN3mBPZSzFFhNp\n",
              "eP5QnD/JbXvvkN36asFfwRURSJ8m1gEMuNSu8AHMZXbVn8DZ0AAACEE1U/WFPYcNex+poCLez7vC\n",
              "+jnxuGArlhXpKm5GIFJ+++o1Oi3XIuRcqIqf3XKH+AkEdxfxdzdW6ObP1M/F/nvxgJQhUoIZ1lhC\n",
              "5cFlL+EVC21VW2Tn8oMasKwLwDHqpC6U4vbzi52RXFY4EOdMtEZZr341D5Y8BmQGG2/pVkpDpGYO\n",
              "VIBEs80+KGGTH3K19oq+Wx9czxORcgeuowdaLdVHj0U4VmUfMgaL93LKKfUonNoQO/FccM98Np2/\n",
              "j7rAcCFEpDSkzS4/FNoZ5UNeGsfIv2d9/2TQF1Sp7DM+LXuBm1iaw/a88JDCEF6B3WfVOvwbkMnk\n",
              "7O2suqU7kIoAMCTtay3u5xmSJWIhKha7/zaxjH/fGzUonDZ+4IBdsVvN5Cvxsz9dBsTqT1YsbfEJ\n",
              "LJGPLex90oD7VaM/q48xClM/rC+2N+/e3brgL1csOWUva63do6esDdlIg6+KaTW+vKik6AVihFvV\n",
              "gqU/N6CxnFgGzclEoLpr5IKp5UApcCafAwRUEA9w8Eqo7yznI0WPnMv3JJOO0JcQceF84LhzpSK7\n",
              "khydCfoIneI3rpP0NdBpUVkjhFFxjH99cRwSFKMuj1ofMTPyW2MCA5CBsQYBmeNJ5aKFPotmqFIA\n",
              "KJLBwkxM/Y3P2f3AuWukXeIHLYalUHera50AtEgeia5OArtjF+MaUUFWsT4FZQshRywNipViFZWN\n",
              "gsSN/cIrHvWcqb1Tzy8i4AIajwnzrMpiTGH/V5jkxOQ3/IyHg/So6xljDEEa78boz278It9HX/n5\n",
              "P7mTwAA4ZfbG3+P8i3/NHiXGA63Kf4dQnOEk/f6i2jECujJIaxLLf+ZEmXuWmdF06DYx97X5H1V5\n",
              "2Lu6tgC9hapb2UnPIAxxA997qNCMiq6roISIHE0ffS59WQZdreJ9VuQHrRAFYoE5s3aUQQSMSZw5\n",
              "cRjg48tQHowtKFYwIHtmdASc4EoRYh80u5oseQgiKbajbuM6h1Y/9f6WVijvinnwXJaaJrxiiyfq\n",
              "G89aRnKoZjWGhD1ruWzDhf+KEcm7rd+SjNGveDihDU2mkTrxVTbkVzlv9mgUq48Fjt7FP00C5aZL\n",
              "c6+HT56NtN2zvfgIeIg7UkBP+qwUeslxw/B/BsZkBSHRSgYXbSiCsMOBK7P5wDKrMo8aO6CzHXzo\n",
              "xscXXpQp2ce+XZUxjFcAwAfBrRTTmaQFTpT2geOawA5R0cAAxVyJYA1zbH0m/iEb2RKfF7sLnvCk\n",
              "r94urYIrCYI8zfcg5hLl2+9ZdHYzFsgRKZt4LzCen+RwO6EjnKqvO1+0fspLCTmk80YYqpWp5XXp\n",
              "9RfhWeD0/EFTl78he5u+wZA7mdwhKCltzCDx+lOabIzsOJzR29eNhPrJ1aOFK3a1MGO3r8INMKxN\n",
              "+W4YyTmTxOjm17mETAcl/TQeHg5mbVYGfxqn8464S4EOYs07QSQKic3odjf4hO7qkkiwv/DSs4BI\n",
              "nWWuPJN+Q03ieW6mrJrk32be2Qi4VBcxoGQp1oztz0oIFCvVSLI+aZh1frIqEWf3x7GRWDGE2eZg\n",
              "c2JQ90+hhtZpv9uNiQ8PSnGKce3GSDlyPD8y+K2dOzmn40NgSR54DDTC3YtS2RE6pLR7FwVZxb3h\n",
              "FNWIq7gQ9nUDzZ1MU1TKg/Q50svRckJzmyhi2/0Dvx+nRTWQc9oa1BH8Ioq1kmfmhOVIZEhx13Jw\n",
              "NxnC/cvechvNyRXM1ZS2OP+vQgvYW4+/a/fORt9Wptrwj+RdRiIcQM0ufe+RCQlVYNWOMP+1oN73\n",
              "h9mH7bzFa6GS+fcl/nzG991At/v3DVP3vvgCd5iQvxiGeseSAe2brOb7YCpZQoqdcT8NsUJABxey\n",
              "13BlgwHbgeG0JslmW2R+W8d4BSAehFl1mNFCRv2Bp1JKUroouKprtztEx7MHA0dPyIQPhDuQi3M5\n",
              "usOOP7l9Cd9TFFhGU7OJ9lO4B6n2dyAbPsRsQcMBDJQPNUrsMqWVQ7V6IL4bO+cKBJwcrpm8iFdu\n",
              "rENVAVzqe5oGdQW2fy0LRuLnSlbROSqf9lBXx31nnghmzat+ssAdVufhNXb8/4f3MIboBEugdkLd\n",
              "Xi6+yXV5YuP/+av1Q1CDQira1eNPyWzt7Z/2ucTpMoxEmFukjIbzYhI8fsWyMHCz31z3/yevFyMa\n",
              "0EZ4Y/AnF14fHxqTMo3fYoDmHUmEGdoGHS9kqRmE2qvBtWxo1jIYRnMjqcLLm5LTv/35K4hhe5M3\n",
              "s2VD+8RBqMvhCN0goaepCHa4OB1xZ63VC/v28AXyqWBB5V4zyobqx1KnZOLhQRGspi57gRVhuPyy\n",
              "aRC93bcIECzhBbohFF9JQLkc67JX0ZAkHLf+1dufHLP2CTF9cXmYTkWFOE0hRPgeJqFKGr2IwbBb\n",
              "qr8l1xbfwJMK4X8cIWmhkdYY9b4UV2jEKQ2ZpzLZhbAjiFyjkWjiTP6mpKjphmxP81HJevA2S8+o\n",
              "DBV+wv5tUiJ32jMahD1TvBZW1BlAMw7z1lyiV0s9eYxvXKWRE4D2q2cKWqpCIfkPEk9pUGDqWG/p\n",
              "wRfiXJG1igYYxydSeZ6uEcZ1PlHPHyNTDm116B3S/j71torF+31uU+062ladFhJh9B+eg3xv1Sxh\n",
              "q3ow5tnQXrQFmmxlxyrRYVI7XpkgCPXiu46/BWzTSAYaIezaTBaOCA9EWbxEf4xLyyktIMl+FIJw\n",
              "UsF/N4U1x6fD8ktjCVwAC6tgnDUN1KZDKzEnEV5P+c2ITQGcG/6DU+SC2IQ4q5kLOdVPXot2x/G6\n",
              "yhGSNZG0WdFVtgzaBqGBVdCh6m3965CbltiGt+BhDNfronI1NOD/BCLGZPDYq7+qx1s5uKQbGVZr\n",
              "RBJA8+5ILbDhmnIQNupO8JTKHo53krUNrC6te0XIBcCt7jYaK6Q/8x4rdc4NfYSt65vdCjM73/+z\n",
              "2Hw8in3swNjNfD8I+5/i4sccsk/2f8sBFwEaX8HD7CSnWMrNqRD72MnOJEamA+4BDOzRgRnwkMm+\n",
              "q/DfU8V3bl8PIJPKgPH8NDeCMmB4Wg9VPPZX1Ut4JSoe82nZbOyphhxe4shCe7Mq3Bgy3n0irEpD\n",
              "1loDp+VYtBD/ogJZSb4p96U2xkzYgyFxNnuM6zKYM+yslewVx3uPlMTtYGBwHrAxq9ky6w2zalKj\n",
              "QU2pm2AZmmN3H03QzmIpf/1GvaNwlIeXZYh6dgTKChiujpJcKTHzNpIlE3b0LmHu36zJDvTRcetG\n",
              "BZBPAnzXRB5B8gP21mHNlH/Q+jn7jeYZMgtez836lqJA7/u64UokqpUhFOXk8tWxdF1OHvJYD7yS\n",
              "JnHd2gfqex0AoMmy2QEm0ZTTKGM8Ra6nAjzDaFJkH+tkY9/lpc3kVTng3ocoTTbgv/sIhGYP3PS5\n",
              "aF0svXs8hphI9LRyOCdoEQIK/gzhtFnMEwcmapzYNn7zkJme5KeptI3wdUduzc8/AgwCPEM88hSs\n",
              "lAmZsfLGix8pQWlsYhBN7gPPWYDps2/6kVpu+C8c7xSMjWlJsIkI9SAMvShXhWumRsFyLPISa2E1\n",
              "U5GuLY6IpalkZHm94TM2OXusXi+qhrDRzNHGAF97d8UA3OSsD0U9xgWhoA4h/fPSKupLGLJjs1FR\n",
              "dzVRWEZH/tiN0LrZdnkTMr0+0CuL9zRV8j7GaOjxPrPOd/ANHTV1qcHAonP5roYx5GN2/7bjcdBa\n",
              "kDPKCkEUUdvn/eBxWOxGGuRJkonZD/uPPCxxUH3WKAk2sCamwgrJD12Hsk/23a/3M8KVC7YoUOM4\n",
              "dC29deZ7Fg/BN/gWR4pfyUat88CibzVxdenlfvX29/eKOjYFOwkGVwtGGejHxMsMiwNxI2I+Y5aw\n",
              "A0QltEEm8xxTH7STVX4keYy5cPkdrV1Sp/p2aLYi03gYR0xoC99QiHhhrQQVOLaPwE9QUr2JiixA\n",
              "1/9To1AshoP4Oc1oudDUFvrkcy7SrlKhSUvsU27A4PInKKHtPGw4iq3IEDZ9saD0gWwkalAduBmu\n",
              "D9Hfb3SXYd0SOghVXnMO4duzVjNKAGGnC619f7N9yoTCTxX5I4QDiscHqOAPI/dUSG47eyMncQx8\n",
              "pNrrj7xP/L95Lnxfl/DM6dUvbBzug2xbBcGc56YoxkVP9u35LWjIhcdYDAVKaWJR+4c9kZ/L7J3B\n",
              "c7FQyV/u3L23TCWYKX4oW7VBKwb/ifHTeu1CapWVhhZ2TVLRxUcHDQ7hb7LK/aCQg0GK6pu0XYNo\n",
              "Y/6P2LPVmMoTpdsqK0d2VNNXjVhTd6xPQEy7D5XZT51PzdVRkbDjWcG50CjHC0D6TNtWtgMHy8GT\n",
              "z/jbL6yshaPYCW6wHHPfa0OM1d8Y1wxmeo3iZ35JDIUMDqTt75JMf+3eknJcUbW/Kft8YlqTO9ly\n",
              "1736/Ayc9bH64Wt15mdZbA9O+BH97ekvNjgSCerfjsGsvAuv/nemGoDyC/hwnjEXqcgZBnTUrgnX\n",
              "RxUMbzMx5oD9r2DaVBL9e38px/77fHVyYjfO/FWufVOPNZ747ToSmRsdaI2WMniMmnkD8jXzjkDf\n",
              "6NBxorsHmIqaWnOJE07L9qu1ikiDayyGc3KphQrN2PM95Iq0awI5iw2RhrOgr3fMZPvfv/kJOi9Z\n",
              "WHmeCSE+Uh0uEdd1vt2VnZdbfioortw8iCfikHwzkalo17/8hvS9uISCEH1Zw2xBdmdGuRb/SdIF\n",
              "V/F+LFCBykTz/AbojRbICkVbgVT3oY5Cl7VHOCvq7Mgt41Jf/unAn6Co6kY0KAFJQEcTjBORTUzx\n",
              "bzQXIgftE/EbEF0UmUHtRi70X+AjHme8GpfS3VGSTT42peJtQme+3Cq9oP1HXt5SL4kRbH/QIy50\n",
              "ilJUEc4tM1Vo16KXfJNNAk232nLjER1r+VIH/UwKm4zbSrgwMLRRamzCU/uWZkIIczHp2KtwsWHm\n",
              "duwF+P62UxLDnnPan9WT9rF9EoPAD4jRP/GhHdRFW4Yxoch0hjp0lcCr+fqyJToZkORO778za8fk\n",
              "72NcTvMqEZ3SDDuB6aF1JGnKK9wBE2/5yPYXnlXgd9+QGrrJobkwL1F1repZpu0Umaaf2B2siCaI\n",
              "DtPqOi0LujPsgGs8kttJ4h3xGIdgvkczyimHG/u26wPLzVU6R6yXY7SSbesoOzsvZ/0z9zjb6iJX\n",
              "Bf4RrwbvGZturhOi0TtFjkeBTzb2Ij47mJYXI0t43glw5ZOtzNtyUEb8z0JC5lzm+TSH8/e4C14T\n",
              "9gcPW+wXldkGIegec/D8xPIMD8SciSjpuJwBL7KeWn33FcHyBBxezOKv3+Kp3jX4GXWGSvbUYLcP\n",
              "QE57kiFknMymIT8oNRh9C1jQKRSk9x5/UY/aFimmAoDRVsE1qcm0hUPS9JPTjuQXnGb5J04Bo0/E\n",
              "sz8uDqlwgpgNqnMIsL8iBy9HjO4OM5f4jpNF/1Iek/tH727ieqjfYcEWyR7Pa2IYSfIp2f0ubBSD\n",
              "JU4IGJ6ixhzaTfA/ByxA7VVchbYM8O4CJ/h+ILDr2IAIsoa0jDvUoRtrbE3GtolkyERG4QyAqQAX\n",
              "dNEeamtIYcHgOEy+yG0jyxHWvn9aFRPgkPHkzL1DOfelfsOuohN8f+WWGchtgViQkJKoypNTCb0G\n",
              "9vQhNZwsIIrLpamVL6kHIx3nZw1m/8Q2TIyAMD4pv0HIWHJxbmLFf3Q0rIiuecDe2tr8WtOp8o9o\n",
              "TjWWxl1yCdvG6oSRJwVIKTdMJ4qpSVflRUPYip6UFkJhqT3SWgXoVTQakRxWyjGAkMij2vSLxKNF\n",
              "+zWJyumxPl21Sxm06A51nEUvrttJnwmnsVZL/W9Mls2HBftu5BPSJq/5FrjZDXVWst1p5Q8kV6L2\n",
              "vsbPc1mgn/4emMNGNlD3Sf/+fPsO/Tf+OITCW5N5BhifV2Ctfzc2p8IAmJkpo+BhtNCFAQjc8M08\n",
              "Faq6a2LM4Tm+0H7cOYfH8RI+PG9InvY6AqHcUMu7pUI4AA/gBIDOnMV/0JwF0+tVI8uWIX6jpUFj\n",
              "BqvkNIm+ROR22ilN1ng/Q+qZ9k4EAsKszrtodN9dsMBdCLlyI3ukSzKS3yuAb4uK0L0FzXN2LwuB\n",
              "SMhPZo7c84LMI/Vh5P3dEka+MfZs+VJ4f5wAzFUWkYenitM2/VOqO87+qEwfgmyBjG4JE3ZI31M0\n",
              "t8wUygvAEH3E0CZAKnI0vwScYclFezEspPkMegQi7cYvEssuKl13uqCLcL1Mi2LrN1WIY/6+TxCJ\n",
              "E+qwQe1WUb7LD/NVmbMCLN8kp9MBsmCcQWqpg5XATil2OzvD3CB4x/vVo/VgabOhECoIIWlo/Qy3\n",
              "SaXXylkfSPGMtNBFfTffI0QaERL8DTHRD7e6Ws673H4aK4+4LaPXT7XZOSRZSmFjKAJjHuCDdKny\n",
              "Hvkn7UEojahoB5k0aHnclMiFycQL4OCjiKqRCGrRSErP/Pfn/9w2YHf4Jypj0vwTkOVP3zgm1IEa\n",
              "iu7PdxfDkOTvIjXYSUNri2WIH2XB7W4Z5X57/DAXndhQRmNfcq0NH5mQKZOes1yBB5RN3sHPwSHJ\n",
              "nt6OT8RteiHLJFqmg8mBxX/kGh4x2OVMn8v203F0EeyRkg9VTVXbbwR3M1a1GIN4SpFEpadQ7GSP\n",
              "K9gsA/ol72wKqAMX/OCSu9mJ+TWzmGO8yuqyYTKyvojgs8rZ69cfxnalvGut8WrVLYEx94BYcIwM\n",
              "lDykHslBj2xCAYI7D3oesj0XVR+EtQcDSm4SV8aYT6PPf8P+n4Qp/g8k4oxC3cN9ht9UTpfMcbLq\n",
              "5+bbLnULCWNMFwZ/eQ8Ewtt5XK8AWu9b8pWLk37Cz5DpnwOIbV3JdX4oNnnGLU7w9TRz6pHPvics\n",
              "El+rqFV6zlE/PyxOJWLmvRLeEb4F7vZ6FxvqGSNFkfr5PQ2iPr26MIql4bvcJquqiUilGZoBAC79\n",
              "yLzRERNJucNW0n91uuMlh/zM9YFAflPdBl1SvrWlgYLpzOKDtB4Pa8w/3VBvObINkQkTuU5lof1p\n",
              "o9GwnTc5dZAU6ALDBPSrn/r+xKYrZfRN75rIKHS2EAk/u511QfXIhBUYGNr7f6//agECJLF+786H\n",
              "+uQtmO6YiFIOWDVzXfFRXBcXrHvsmazGkBpAunyPZRixJVaXEKtr9W+2Ke+52X3phwwM8vXhMxEM\n",
              "Z+5pqN+dobN12fFmACY/wFXzXZgQdtDyTXjxi8tptONzz7+dyMKDDTouIdE5/wM+zOaB83AosDLx\n",
              "DV1vG1NgMekUckQRvnC+ReT6dXDmwexTh4mI3QomMy9zeO33ZdElPW1vwmirD6FcKO7qrm6brtcZ\n",
              "aNy8NrjW2zYMQGQFf+eU0J46+nPvWV+bNSq5X6TvxaNmz4q2ASmBMeqkmM0cfHmf1gHk8H6jZTJK\n",
              "OiUlVLA6tGWbtO99nlQsW2ouc12rNZq5P25DBXKDRx68Z9x0s4ZtwRx6hmoEomRGQyl91z5Et0OL\n",
              "T36lF8C98SCT9Xfn69ebW6Nn1j5M1Wn5AThitFvXCOizEGVQnqnqDBF0WRIkcl7joVr0sodmbt6u\n",
              "7u9mHp/s15x9+nEON2ftTfpVzyW3N33MqjyWeWyDZrbR2zzNIOT6XQGyUcceRPM1JrmjXg/4DYTv\n",
              "mjV0a9cTHmedwS1pEVM9UIiXtJFEQDi7LqHFNV769UNUOni9XugVxsBZrNwzaV7w19zgHhTk7U/n\n",
              "cHGnsLM1fuyIu2lbrvwn4UoWsvFJ0/aM7QKmC9WKWJX6dJsXMSt+eJ9xmntkSWBLhT16SPzjSUco\n",
              "gGeGt4u+INPTWZllK0ALJQ7gXiaHvT9TCJNXpiywzDq6qoZBg2DnF9N4z1WZ+At05uqWaihkXEcX\n",
              "R1A0wvac7b9GWi6Uim+etCl+0taqR1sKbB+7+kAvjjAWhJOt0/8Y+pkUPObxIrWLoCCK+Ko7NQYe\n",
              "gM2Db+J2nMsK0TCmsrfBcWAYcWNWC9ScYkGL7fzWIaPiGthu74k62r8mzV1rCnjURDaLNrfvWWX9\n",
              "4hc0hk//QFLxyYEV/M2FpzX3GodeJKFg0l8Y7Uke0hbigIVy1wxaS6XCRjY0KUmQg8DKfzwb3b//\n",
              "iz9bMCI5FXHHir3NeHrFWqPCuXYCyNgzSjNCNYmGk95Df5x8fymlEb+xwEt9jKjW0RjKRNyWTtLe\n",
              "fW0UBzxlzyhwm1Z/yxxW5J55OVi9CsnPy6ukie6JavGg62A1JH5szOuKIzBFLNL0pcZwRFh0Ps1k\n",
              "d/03yFeHw3UXzjeCGZ9w1YzPc13jxCJ8XhT9M8KLcncp/HrNDrrkYBNGvrbrs9pN02sCWP9fLKv2\n",
              "hjjqjOZqC+knU7lQMbicA3L2+WI3xYBU8dnyqk8mNhEw8flp8AtXz6Er0Pl+FeQwvkqJsrufqbIS\n",
              "NMSFaIExqQ6DGLyl9NfjqwqVg0tuL8j9CleHwIdnV7Dt7/UHOMTQpwlTAhl8opGR5EmM02iD9b1J\n",
              "N6f/evlgeJZWH2Vg6YOmWigO+B+3PRqEe+Ax0f1vGqRF2h+S0FDK5O0G252WYRHnl96pfoWZf2Rc\n",
              "KeECFP6u+MSc1mW8Kgs5FRaoYnQp66uwiav+RncTrpKl2R2FaJEYHpvr+pMuSKhkcGSK/JxWMtfF\n",
              "+noJGQg9g4A8KJrVyDtTueu1PZv4sKryQ4U3nTPXxVawDZx1afSe+4jQGaG0DYT933aoYAaC6kEX\n",
              "gervso3vkAw2zOdVPrfgcWdLml1KLTgjDG11Q8uptv/5hcggE9okIsIHeYoCz02puyT7gvMjsvRT\n",
              "xTir2sbub0OYnYTeINtvP1fVBIDoJSCnnXAFp/oL8kIsjqzp5NVgOE183/YCwjd7N8mIgszZI9T4\n",
              "cCauTKpJB787eVd5+PMtc21H3H/kBvXGO0WPiBk5cG4+dzLCIC7FBrKhBpHqxn8GS5He/Rm2i06o\n",
              "76rsMJMpEu4QGoR9kAIzL6OwduO7ygAADHkAAB1UQZoibEFf/talUAE4cPtAAncyuvezZ4ZZL9CP\n",
              "lt2tpj+V8q6zX4Lv+AJyEbreDC3cTrcOdI846ksG+f+1LmcfA8es4UQtC3FvILBUmCMxaH/+R8CL\n",
              "c62HLfDRqJrFKtMzYqr8voOQCRMaVbi1v+EVBceI3/t/hRXxoMp6fjOSKfLPZu/xhA7oM1/fRaFo\n",
              "sqxr/PjdblNmN+C1nr2hqaT9kGSf22OMzD92vxtFyeWa95JqEFwt8NnjMaGVvDs8rjpPnyQaVjUp\n",
              "Du1gxi/UeLCFnTchyPtHASCmj1t2DkARs8CwxtNQjJp1fTnIFEvgUClS+tReN1iXu6cRAMNw7BDf\n",
              "sXZ7hufaGYXNJyrK36hjky1k6CEVcXQTJ54iXJ3e9xvo1tAIebCY6pIH1OwQgwAyAhRmc2R2HIRj\n",
              "UscCZxHh+lHolFWFh1H2Nv9Z3ThtP9+PzaQoz+F1kcz64VsJGK6rsfdZZnTMQ08MWQhy9pfJ4mQu\n",
              "Q6m9M0F6uydeUN5LSvszMjyc42g/zhxarTvCICobNsNwANXOrmdCn+XjfrxPleWhJDsd687INoPV\n",
              "Kw+czX0sslOlO+VFitqtWcDrmgUagIjry2vivgg45TwiqUXDamo+152MSYTrU37w1/VMUXuFYJmH\n",
              "W9+4Lvo+F+c2C3ttbdvG57qQu1Gt6eCYXqBJ92QhnVUCC22LGuUzhij0tKOr1IkubVUOIxBqMIKw\n",
              "3/FEVoxuwc5wF3BguoYaQ+B381H9OCMGbXZX0DTpANXBPBLjYZ/dkADqOOCYKfmpTL0CTCj5LYqS\n",
              "kpJorpzMeucxNFq6v8Teu+lzX4tg503uZIAit160ge7SEy8lFUsLg4CSeTyGVjaH5NS0DEDEW34V\n",
              "DixOLp7bklFHFHJa7Or0F0B74hHoG8dLe1tYyLR1254+18dB2FerWyTwI/G3mw3HMjzOJPGLDBF7\n",
              "ONMoJ/oo6MOncXjKUv7U01T34b3C5J3DWngT8J3GxWKMQ32IrzOpBnCxxnJumSxoGidD9hgD3V6D\n",
              "f7QDrNUx+w+qGDqqcHjv7VnKkwHxzoIb4idkzvqYwxL2VZdt3Pef7IKQHE7IX3varRVarteTk0wz\n",
              "NIupTGeJBXK1gsL7BbXbzPH0v9aAdjrX+mKjuPpzCDHzt0U8UE9u23lrfxP2PMN0mEmSdQMj687j\n",
              "ACI+xHv/eU8usisEiojFof1CTXMwvIzuOILXvX5mOsl5QkAtoxPXQkDpvLqsXmRbt64bLj+GE/N9\n",
              "XMhe0eIpaKR5uO9gFq9Q1RIQWvwhNbV1Oz8saDykp8iDOtCD4JoBcCBaS3Y5shHe4F02M8VyJpjj\n",
              "0wNrNOpzINEQsQT0EjFVdhJpxm8alGXQIKtjpDoxEn2xLhq5d0/CP2dAPxzowFKgn3+/STwJ18+1\n",
              "PrW0bnPhKgNB7bZpXoUYbXAiyyJJSaQYThMCDcUyR8tBXQq23lCjig81lN3p/1AuRgqY4jVIKhyZ\n",
              "I1gMSrL1LULW6WVI8twLkjsby3VXAFkDALVOeIXnrcOZ044Td/GV1kzVc/EQ8pYOw1FdjkKMRDSb\n",
              "L2f4taxTIYqa5oddGxrVGSuEkR6Kj2WTyPRcnSfOXFS671GZawKpG1I6SWxnQS5iFd73jK9yT7eA\n",
              "AcN2r2HVZA64OM4OQELJ1jCP2dASvCFWn9SvT/fowIF+7V4sXaq7zxagaKNwW5JnUdNlk3bxED7x\n",
              "GLz3e8q3JogkM5YzrSbc/9Iwge511VnKsbfN2jmsGiLBLHOqpKkkdczoSoby+lUgPlCIELGcZxBf\n",
              "0ZSJ5YKx1pulurfbXD6i+QKgoic15KeWz8CAk9Jnk1DoZ+XoJ5kHw4BFxsPhka66Eor4S0ss8TC9\n",
              "p+JoucC4ysAGdc0irqnRytsrWofg4AUv9IjHunLidtbI6AIcgzKLCHnpKt+NIsWdwkWl19KhXt//\n",
              "4edm13y6Cg/2+8ntFD+3845yHOT6drOc30R1GqvGIWn2AjD6OxZf+9WvKg/4Df7yXYbncKauqsCu\n",
              "yUPhiXc0bcEA53/BQMjQoTM00knwXThaF4NiyYBAEVYeH6tfK3C3tVwKFqPASL5xVmCuDY2cALOi\n",
              "P0Q2v2+cXJ6tZ9M5WzF1Dd5DYoDZpOIVGe/eDU1IOSU+5/xm23UaXt0tt/d7F8+U7hjE015OhGk2\n",
              "zlN0hIlEFKNIRT4+FEH8dznX+jPZHAhls6qVzMz5dhL8bK04x154jIx6EhKmv58Y0Ej+OH0LkBiV\n",
              "vI4jUiIxLF6aQxdsyptSmVDFsksw+gKd3/Owb/laIZIYFcOXRuZgeBXeo3zju9suQR2QQeR2lcFO\n",
              "5kqHQtRTHhqidlWEdyczZYxQJztS/AzDzDqlnfj8CDD/MpIza+PyrWqwWWd2m3hBgVMiJ5j22OAl\n",
              "npzghH3wF3g06MvM4c922XaRzrE4pigoeVb46IXibm/xnwTNVMoww8t2FjaRuvbkm/LLqxEs9BNK\n",
              "BGiSbYYvt+3Nz6PfxbEOmB9f/iN89YPsYy/K/2140SZL+XPD1YUbdUloXu/eWD6po2m07BP+3aBM\n",
              "TGqysG4Tp+OT3hHEfgIkffipwY03OHighEzTBp/qrR2YdhzfIVR/aJ5Wvo0pwtT0+0VhwziXVB4u\n",
              "Lum4sSavtB7w1YUefJU0h00O01wN6WMZGDxrWPO9h1JdLqT1ZPWV7s/YQxzi2U6M20DEDK0Rrh7p\n",
              "I+tr/OiiJNBRJc2bELGJIV8oUqL9I0kikFwPJVweSE77/4G2iItHkoofisS7MMIlu0bzX2I+b3rP\n",
              "pnGPSYOqzB326B9OnRRHgUFYB04+bhSn2fRwgBIHxIUEgu9Y5nGh/OW/3Zq5Ni3JOBTYN0gN/+si\n",
              "TUFroEQVC4AE5rOXkUA7ht5jhgn6nnjV45i/8moxz1HtA9eh0jaGZOQkE0vX0Ey89k9fLBcwUKc5\n",
              "tTU3CfeWqNOxfhj46g5kyCnLwgwxnVn+jNCJ1LvjQY4eRKvjqRwh5dmK6MXTGlnsMCZH83zh0Gwb\n",
              "NpyrMH1C2pLmBqg7ndpbHxhFArIjsFJxyFwNIlrOAEbXhXvk5VYi8hZROVD/vx77vGXDzsXkTz6y\n",
              "jhKJHCYUVpBfZJRPjEAALmp8G8toj8BaPv9Y98DsHvkvCpGp5nWcqLrjV1oK4cUkLXRfB5dzkjbc\n",
              "tQQk6MfdGwoH4tVCwiZXuERQjhbE+fjmv3CJZOvBmYWmTmSvFN7p1pjpbQCPPvnSRCTtJznwauO5\n",
              "9vFIhUadhSBHD/KxhVvLKIeo7c4ZA6dhx/w5UHW2wo49ucFEqlR3fYf5nmrVRbG3EVPZPiGSOJed\n",
              "nsSqhX9vr/F8kdjZla2TTR6vexF+vaReDYfYTZ5uJ72n929InGpsqia4vlARCjbNJdE/DtPwIG39\n",
              "V3ahOzH+A2OWt8EeyWlsEZ2LbQIutGR84/7RMYS6YI7f96pwbH+pBPIvx5afWty1st87h9OQgpT5\n",
              "t/ZIAv2HrBG0i0uWoQIDaFVhcjTZL75YfIxqzkxg0sTecznpUb8niMlFUg/rOV/yR3jTgQU7cPJh\n",
              "ZtuSKEzh3bMpBv//InsW1jz38V98U80msTe6hK8RXzXM4NS83zbn3vlfzn8t4bWYwXTONZPn0IFI\n",
              "Fm0X6bpVz2J+x9JW7XAtW63soJuCFqDt83B6YSacZpHKZtLow/UkNGmmidIYG6KD/Ucg76CF4SuU\n",
              "DQQYZ/v5d9hRXVBkOuOms3gifes92NYtGD2GvRXidBG84483OzhDHHbORarSeYEgDJW4paGvV0KG\n",
              "QFvIhttPF0+wL9YBdprbNOM7T14oJIIpdq7yn5GTGOYNYJrN1cez5LSuaEb8YoyzxNGBpk8bsjt0\n",
              "F1FqIc62S3BbYVWVJQPRdcJXgdbF2+97fpcHblP8G1H16JQVmVs8xfCLsSoREqR6r1Kxl4rR4t6+\n",
              "sKLzfbAq77na2VitZZDy84AzDsHXjx3x5oPW+PXUWv5hWXQYcPDrcHs+I+N23EhZPYmGDTJI4K58\n",
              "sBH6+ygD7QrSNBdYH9dFMuP8jTKYXJMLwoTeW+VnRT9+NubsiZGU16aoUjRPKGQ21NyQzhWGWJ+f\n",
              "0KPv/XOtlKcLYl+dqZtLs9P/ccdPyTDXEREo3vzpNFnztdmtEXaAXNB0plteTxMYguzI2r+FwJca\n",
              "qh6YvhieMRrnW8Zn22Pv1Z7KwtbYOVKzyNRd5XzvQitce4o4k7yUoFiDnCcqxKk00T/utrJViXBh\n",
              "/1MHzHmnLQ/0fNI8DhSbnvZZpxPVlauDe3khMS66Enel4uyoWASmtrErn39fsdgF+LaLOCL8ayup\n",
              "e7Xd2prvN2ufRuaEz0kXBkGW/PDmemEPhBlHKqSgYBick1oasRMZrjU80YitMo+cfgTo7p8zUb9I\n",
              "p8uQUEqDCwbnjVjgQF55v7SEG4xjq76DTq7IaxuT80BqaV0NH0bI94o8YNKA71pamEjtZrFFVOUa\n",
              "yZ0HYd11awp1nNUojpvEU/fy3YmiiUOAp8sPQyu6Q0j0ojQ/qREbEHj2R/PFMf6PAMcW5MXjJGgB\n",
              "VKipRR/iJpxyXMFEtw1GX/wdHCfx3yx8BX4AHmaiiiWYGHkfOWint5VcFZNNRTkMqFUMiEMF4poQ\n",
              "O2j4CuW4bUGPFDYqyq6eiZ7xzUnBGwK43ggP+lrH8f/84Af1ljkDykiP70M5bsCtgoLeTvu36JN3\n",
              "eFkdii67UvJp3iowAh7+mHVuEXtzAPuUop1u0RcTguX3xo6w3IOmNbIczgUzAuG77OEMvCnpA9HL\n",
              "kCWe4bpbFS2tXg9yWo2S9eMetjHG6XjYTNwxIHdGQtb0jVIqvd4OKyxWefSVTgBPoHdSc9pS4mxs\n",
              "Ywr0kOejGT+T8TisMhE0uRwVOI/+11F2IMR9kPqjRKbUkik51TKk1axo8zIdRpxo5XQjJxjWJdVE\n",
              "wLkc9BAif/lmV7eIY3/MaKjuhKGKQ1faxV+NA4n8lWxvCI4kgGtQSFix6qa6EFc/zuZZOWZGawLN\n",
              "JEOEEb04SFcUUNwFAbBYFCwRWGveLKQ/6tnhQl+1JrwywK8iy6PlFE1RQ+yWcB7tiY0mq/SZxpnJ\n",
              "06Pi08gZAEJIl7ufhEFzOM9cTuKDsaTHWZenLyvFrWpTgO4FyLLPQniNc7Y0fRG5fZWXePBRLdWE\n",
              "ooAGoeN4KwVcLp7vmJg9sNItcMb2kj5psUBsS+t3wnMDFrhLXcV/Fp1kSoxiNfXniBiagi5cHRkV\n",
              "mFTcP+7lZocWC6QvRhj1tCQ6g55p3zOLO3f3dkYOK8rclcydXkgV3TrBHJzvB+ag+uhP6INQ/Udd\n",
              "Pac+CnWzZa1uZK7c8vVbKzIICsHQWF+qdEI3MVS4mxwXbDFh4Fr8MONRcaDs+I0NXaXe65ZXYLFm\n",
              "BAmYTslZ4m4hDsyF1etUx2vTRGcpU1futS+bQZYMQ3X3ZTvK4UGvDdAf//+wuBmTJR8Vfpa6jDQD\n",
              "9mYXc56+q2yEAfmxFeKKXnn38zMGk5ZgTiD2ksTTX8D9wAAAAwOGw4DZOxI+VE2+wsjpRmNmTIU6\n",
              "q9gtBaIovdvsHgMZuTQ4SFUvadnMV5z32OlB3cXCUFQAYo8Guo1mQKZ1vCOew1BUDnOQDqg3hv97\n",
              "FYAmoKE6T4nsrc0mtoTV85jnxWxY8OHxhyPZca1F+i7GnrWWxHzmRz3r0VOc2JkCNqUzPMND9sqG\n",
              "dyL5S+O35aKpF5/mXBtG1ijHay9FCPR5N3B4+7W8rEmPgOpwUZsolUm7XNDUz8niDOMhjuj+2Xcd\n",
              "1zTCZ66/diHzUs6rhqGbV5NZdsU7w8vWH4bcAPeD1B0rX00MS7r4swZUXli6ZrctCUA6uyEov1Rn\n",
              "cQCcHk6bpIGBE+iVSnYJWRmD8VhfeRiyBTKU5e+S7Yn/YAW36LmJpfqUG5/htGFuBrzYxOo09ZgX\n",
              "7TdH0Km7dN1EGv0rcFg6eiJ0kheHcT4JWTfB4ZtKne5zcOBK/0eQq7raSUlcp3URZbpUyTAGOVon\n",
              "qr1GSJhUmLS29IH/b250kty8THJMClgpjgltxd+NxBwUNWhBC95dqO2O1yaOV8uvYgSgbPcnaNRX\n",
              "q5H5U9KFhYJJZjSwCF0DZ+w7cLgBttU08gOipSt07nmni2BUI87xdGofjzuY7CBbr7ffSac7h8Js\n",
              "uvfk1dNG9nv0woiAF2MLP21aHB3oRGjZxEDYwtG1IGFpOe+auuyAXNochm6+2MKb3auoyrgBe94J\n",
              "q2zmtHJTleLU65l54RNBaUsgu5Fcqra0UP1LTrqHjhy/M+7aleQFjER5zpFc8KpUBalO5+q+Rzze\n",
              "tNc6TLieQVRdTKo4IVwvzT1g14UzlDLMz/SYZJPqHk5gzlFFmsAIlxcnszpIFxKq17HurYzWD3eu\n",
              "7XR8QnSMEWb5RE4B53V1iwiKjm32538/GC+qSTAzz+B1iDCwhlif5G7UFwhpyXZydzX+VytvegRc\n",
              "dE0e6KM5xJgSjvVNVREpVE/j3dgN1VLmMXT33tipH3CapZYzHlGMHdxufas3oAH9v377GLXufuQr\n",
              "1AEWKfahFc5DTcon+kFRqEYNHoZfmLOLiLx0AXNmYNL2A4KpM3t4x3jnbbU+bTnw2LqzZU9Etvfe\n",
              "LhY7l19h79QxPBO6n6gi17Ysxh8QHjNIWuMT7Ty8Ir6EELrRvoDBp5UvImHmYENCn0Wm74o8cSXi\n",
              "qbY0+q43vucGT57Ry6C+Iqxv6jMgwpeT7wX3j+i/SrF1wQSC92Idfgz/dWNwV9tDjqoMjJ/0jnKF\n",
              "B5o2aHYf0P/VFI0/cslGWDZsWqS8yCW4wxPYZQgWEPsDSgn51OoLL9Lb5uxq+KNXuOdWFTLwEkQW\n",
              "gna1hK1jwbVLwIfxjEwAkSO/2yUj+KJoQYrINR6MEvOLiCisnAd9yG6ORyAHlNTi73hObsV/kG0x\n",
              "jQCJ/d2/QJlQ2Y+G+zkeI/Jf1mCaR7dRFr582ysXe5SYgWZJyE63zF5E5s3ksZVdyk5ZtEUeKjHc\n",
              "n4J0dEZl9zKKjxcIifjMGFyEQVC40iZmlZ7WyfbMchQxWTN1tZzEn6Bnda2j7JwxdPOUqAqB/qc8\n",
              "ucejYCgN4PMObzF1l1M2nWbR8YfY+kLjtGleuLecIZ72AmjTj8MAnTiM9uEi3cUK/xIuZQ/lJ7rn\n",
              "LnESjRoEk/B7XBC9/83bymsFS9xIdO2OSkFdxLZ/cPaIHT7uqep4gjC3vL2KpT94XV94x2VFff8Y\n",
              "ACJoDmM7gg2BAOB/oyDAuu1h2L04e5nd3apvhYVc/bQXdfArQZK44PUwweLAwfTAJUTEkn5Ea0Ms\n",
              "Bscm+YQjYuFGw07pDlvWnpoQ+Rs6iInvtjfhFYbPJRW+s6pjIOnYwJ08k8go4LISaD+2iRNf3JeH\n",
              "QltsjY0s8qrz/3ye5+7LG9tg7XTq9g5qGJWLVi9XYEQTjLiXjIxuFvbO6MVTJrgRP3oSarFfz3jl\n",
              "pV7f90w2cYQSNj1qQujnLInSHI9wUQ+vcK1g3PQkQWI/fEKtcwXBZnrAGGgILSzASHy5Q2edv8CG\n",
              "LxrCqVAg9tx20he6UmAeUOh0rxOG6AwD4G9kgBJ7fGYyJC+N8Ho4ut1l+o714UCsXdkrnEaKHoxU\n",
              "IFgSP+vrCxeJNFJFAosY37URFoaCv+9ouE4o0mQLUMeSdMgC5C6+wg+1kVOhTF2oH7421gD9aZTy\n",
              "7z/tkplI1tiXMRFwdCdZOc4g9guW0b4rjfZVbsATQwug6du9OZRJJSVCjJpMo6Z223NUBdxQXPxz\n",
              "UGkLcZmD8AmC5cv5NlIz4Df3TKxqHAmxKsc7kIe9sW6kbiNu0GXAfBRmbKwdRP7BWMcq4weQ9P6T\n",
              "SDDqQzQh1V4kdYJk2PNXYl7fFciY3GiXP+kspT8bxXxdRjYcmpSKrHSiuPY694Jn9EcvMHwz+GFd\n",
              "/dUIrdIsTgmiu6mp9wJSIZ1YVd76vrOxF17fLfrzH8DzEvnIhMAOzVNQsC+k8J5ieSxmkZogrlQV\n",
              "U7Oy3LCujNJoaWQCciK/O5Oa6KbjUVnj1uepZPToPk/kPldVSfGWN2HCHqtdbdaEhtezRZR4RJ93\n",
              "rt2QopO3HjxNKx8yc12WSISWvABzZG+cx17J9mrVPErWPuoqowK05O3itfgocau+IBgPjHWB3tRg\n",
              "r4RDXEpSTpD+fZChWo4wiyH9jnAS0N9k2jcpzsxfNg6ZOyKNKuQ/Yh/Uqp49wGlvFtOl9uUsgQAX\n",
              "WkBTWQL8Dha62nzB6KurwxgziaeLRY8sV/XeiCvsH+zQ3QCWkvkjMZ5ooCcZKNVl3SU526Gztf75\n",
              "QiQilYLnC0u/j9umtLGt8RX8JjOV8pm6kfl1/zrCiVSPw+D1Rs7ydMxihgcgO7GxXTqBrf0nSIZi\n",
              "8+JILOQP8UCiz+wa1JsP+FQcPmV7hGFiwa+tlxsIu2tpNb127WelefsNjp0G5RdPIYs6iBf0VmMQ\n",
              "fkWgsjWdEv+pDyPtx3A6SNs2LYVoOrZU8OyYzraVpahqkqyGpBqIe3T2aJNvudesFL4t5J7J9Kvy\n",
              "l1/3WAs1ifkaw911HqkLBlVErF9Q+gxN4gtapAYnhzpMh3G4hW13yESbvL7hmOseGsVnRpoDY00Z\n",
              "VEyBxIjqG/Xdds08Ndc9G1k9zWocyRoZrHkE474bfVWQB14i3xvdnBJMQnwtkvEXUAzb5jxkHKut\n",
              "nJpfSB/XQJO9QW0BstMARrPwlnWyg4p7ySuUhZ6UH0vllxvFEiCks3+XmoNM0MyFKB3ThUzCARgj\n",
              "F/sgdcGsJvWyYZ2H7ypM2lqhr7E92nIjrBFMpUe4FhqqR4xY1A7QQLxgv/oceQnCypXJMd2ZkaPu\n",
              "bHRYGMe3xHn4b/C4taYEoZejc+6ZbAzkmpTiXQphe+flfs9jtcLA3EiRIId2BsKNQlyU8SpUv/XO\n",
              "HuVtfcTQMsGCH+YP+UNe9iKWeEOR5odU79ZSLBJlg3fKgUQNGM3sYbJVhjgTtmLfLqexpQvoXt60\n",
              "Gp5IbDxOZsdo9vrE0X2rcZYbvMMmQG68GZ+NcpQg/ysRMV0yzPuSFYQhqsZsaYKJubOyiBl7NU61\n",
              "ANSu/isIHxoaJ5v5Wq0kB4JbUv5Z5+SmjfTIEQGJPMtKEEzcg4VBOYFWspU+qxX2P5/nrdRI9Cbp\n",
              "VD6cLFQObN78CrlhQkL5cu6xlAvf/47NBQ1+hrTt8+LGpOcNOje3cCsDJXuvNLmolo0FtAsx0U8o\n",
              "1X1Cs/AflbGYdq1VOzi5FAAvC9gLHHBGRDI/jRo3N6okSzKHrCLB6ewJxlwngnzFTm+LPdVpCN1r\n",
              "x+0Ps2st36U36MLJs96bN8bAehBp3D0CllLrO2WFKsoz34i1einZNarIfXbCwAMq/w+dH2f2kPOh\n",
              "I9gLXRqeSYSQ3PAn4v4q8Tg/cHgEluNIONuYOciBJeUK8S9nHKgaGP+mmRnBv00991hyrnQ92ujK\n",
              "6s8J35LLX5XOIEMTixo1w0mj/UdXBSpf1IgfIBHGBvmXnY8FDIrSIHxW2DuVsGob8zTXcYVF5ZrK\n",
              "SG97jRIGMhfdqeLwuG6CfNiu5N5+fYwzYrib218HSR5gao6peyGhrjkg9/v+FbjYa6nXF/AaMCaD\n",
              "XX3lToNgRhXauihfSSRe1J/wu9wWxPNieECumH45L5lCXwzCTOevROfoNkXZX608bK9iHb4UfPlt\n",
              "QHzBAqeKBbt0ejMdTF06/E+WEWZj8Xd3yfzsM5JX5Hp+xj73K8Z1ZiGhPhcoJ6nwdn/cmfZlLhEG\n",
              "MocTK4Z89H2nNOcNovD29pFFCx3SNRf6xGFoEN8xaEhEbjmfs/rs25XApQoenCTccqzIWuGhXV5I\n",
              "N6q9FiywYGF//0/PSNB4JDVdG3xyGxZYhEsV6S9iR6VaU5NndQ68Tu61mHSEIOvm0f0MRdQ4ZLbf\n",
              "mOun9FvZNEkTdw/dDiNauDiYnBB0kUsVaTwxHo09ePUCC6mEJLtJD4i+orU+KjHCAigoV07U9xys\n",
              "OvzgRjK05aamokYo7mVfABBeyaEXaKqWWtNzwc4a1U6eppry7TZjdW2Dk6rMbA3f72anrSC+aWJA\n",
              "QAuGNxYCyOUV747sLYAAAAtzAZ5BeQV/AADSU4lwfluZS68Q0LyDP8AAm0aqLL+bEoI6WpeoJArL\n",
              "3PFIJDV7od8/X/CQO1U3tCLnMtAzNoaOnA6xi4VqDZzuuwkH2KThh3QpRmVElhD2sH+vKJz1qt0s\n",
              "+XTABafn8zNTbutllzb52EA5OIy6PmhhZ8fE0jinNCTCUp4LdUHmYg26LO5NnZIJT6OFP8QDGl50\n",
              "yeTqjZ9WJJZfZ2DgwDxK55fZzy2A2b2a3hKGbyXew2yCbB7wFMdTI/kh6TMx/xzWIFKmw9RfbGmI\n",
              "pk7L9ENdp5Ar3+jYQGid8qO/Jkc1orjIpDV+maiAe86M0Eg9T4SeRSfjm934XgiYcswPQGnMUIS7\n",
              "yhvRth3YiAY+LNZumKeG7SsxJG8KaTq+yguASVC9kNSpGASVt7ajJ7DsP++9zYgB2IyjA6a+yQg7\n",
              "ekdsWXeJqWvU+KWqMrUooNkyyIMrW6Q6IYPtAoXLEmSmsE/GIopfSMrV6/cynEf42BuppP0XO6gg\n",
              "7bu3lHoS1YLrrmd9QHxtnt8bXujlWkwZ8XiYT0dE2KGSo2jdrXtkXTvg91eUo+GeBsv+cs3ZJJJK\n",
              "bxMqaSWwH3sKEAvsr3UnShlcbMI85dFw6N9WQPawqL21Cb4oMvBdSVD6fsGkfvE1ewrra3te8Y2P\n",
              "6UDcKmpXiUrBvsXP2FDRSdgnhFiJecGDmW2VtwiKLaB8g+zV+aTL8AfbdYPNuX+epjmEnvMs9W/u\n",
              "2D/HYqp340CB80FT5cvmJGJCOZokjOtVQKTUNDYO2ZruhfkjH/tPsnVvRh4IMxYoKVt59x/C5hJu\n",
              "h/z/6ZKu5VDwR9yRQDi/JRs8yTDZzlY7PhM/D3R/IHv/RYFaxZVCzTD1lWqxQzJE2HtundxSL5UV\n",
              "h+CNqkRAzZUihnenWLwvtA9gaomeaeGOm4gXVDReza70rKqjolJrGAutIX+ZlKL2/5nv/0EQjmue\n",
              "tKqdYyMljK62UgzVpoJatuXfLeT+bsXQj+EXvWMLtSO+TxgIS4yjirsrJFl5ukj9yBxAgoGsCX+x\n",
              "+LhfwrZQdguC8XvvGO2Ai05qUNB7CA3xSAoakn6QlOgCiiClbklsdK43jdoVZIrOjHt0JRUeP0RU\n",
              "AS1c8FMLm9zPPj2RaeZS7PCws5G1OYLthpHBsJJ6NLAyASVwHSNcwSE+UpRZlkqe/if3oxoYTTiw\n",
              "rCQ3VF19ree/OFreTMIJDErzUik6D4bWmH6iBrwwgCZ0C5ruOS4qX/Th1V6D2n2wlf2FbBjo8mLg\n",
              "HoPEhIwda40OmTNx+0oZgC46/iA5bgWVis/gqLyTmLepgTXnkkcJubTvdClgwKoTjedmC7K+woKF\n",
              "SHHfPea20cpGRi6jmx5PPlOwBfMmBSTMzJaFYQ5Ex4E0AxJKezP8+uB2+NdWabpC0t6kc73Rjguq\n",
              "GJyq9J+WUxyTjn/zmdhdcsWAHEJx+YBICOLL2V5UycQmIk+b7I3BSzwQvTvR1oZT1AmwCYT7GKD7\n",
              "+3zKazME3yPy17yexCasIf+p2mq0FAm77v04aDKS3mh0Y69OwCrcnRCwDgUAyO5q9TzJKPJ+q56L\n",
              "iR2xVbPIKr5e78ih7lVZ2p+VHfc4E0/JNR4YMtW7jdCesTP5EULX5HxWFrHOT+pH61umhnAzutag\n",
              "ypJTDyHn2t0XmqEjBGo+T0AJIf+/hbxwoo12CUKMLONQfo6A6snChfp3oHOMj/lQzSvpHGRP/YWC\n",
              "5agV6lrb3yW3SAme5Zy5qPxC71qEpb/pr6kBcGi6uR4DQtFM717PtIdK7r5pbcnkAuL3qFxLf+QF\n",
              "1zLCCF+V4Ymsv/EI4B5Ht4Wt42RDM1TnQTk5lmx8TgqSGVyXG1Ay70LhQIjfWrxDOGSJOaWKlHTk\n",
              "mytEDvVT1bQmWxBMaVdSOHqu5u5viP/UEY6kSLjSvNUb2rrQfJ40cVjZxJTbqZTlea5/SxpTBqw4\n",
              "NFdTbV9EzI6+Jgtghcpj/xp47T4Yl6CjWlt5kV4Q6Ky9ysLEMwmOUrnXFys7e/d2d5iQUWkTT3zq\n",
              "tNfROMgHoLxLV6XQSwYvNs27j+jFz5a0MIKlCuU8tEPsaTad2RZcMzIM7QZqFopRc+mzT83NcaMa\n",
              "BABFN7qtX16j6dn+4iOZeH8bPHG9KWfi23hPFAkYaFqztHK73khpv9jyEsDA+0NU5qZt2sIpQRS2\n",
              "vkDoXtAJ2jnEPAd0iftv4Frt4YQK6x72iP65kVgIKS7Onh2I7IujRlPzx0YFTCr1kkGUWsngBiN9\n",
              "ZSg686ywvSb34DGyEWQmZVG8zn41OJVcXr84LigJ+mDxJayBIXXXpBrlBBLUUZ7JmrCxINwLFl+V\n",
              "aQrOfM/nb1+URRaXopebA6D1SdtIoevrxtq43WGqHYafODASS04m97B3gIsD3pL59NOHRhP9/8ZQ\n",
              "JJpQ9VtYO2NWCXmfWy99KLdyyJKMHuJ0Et0DzxHVYiVrf7ryStZjkiTNU3OTkZMm1VFIC4TjiiXx\n",
              "1bWsuEY6aZKDrBRMDoUA+D6XwinqMzJFJ6oLdCQQx+AoLjA8E67llh1uJh2IxrvDSAv+nwONrESk\n",
              "giugPN4j172285vgBd8TovbnhdQT6JUyCrYmDKpvI8OCn6OC/Dzn/P73F06hiVxBhimcUw53BrSi\n",
              "fKOPXaUuZl+QnfcURjEvL1h1dw1NdneYfbicIm9jioJzujKasJ3Qvx0hWUt/ktIw1XCA6hgB+9gi\n",
              "bvSyTkuvzxGNEkjlHa060oDWDD4Knt4Q8cSzQj+D0/Gu8yCLktHDLvGyKJ73KF159VsFO+ozE6KY\n",
              "VOK7o6ahtBOTGBO93GVigZJ+eR0BZVjJ50J12VC9AOvFtvIeMN8ZnU5B8aTIoQ7djSi59/75f1yS\n",
              "OXSg5wVq9KBnXJSE/GuJY0EUdMiwTfpLzfAq3vmaEpYs6qiGRxqblTJ7x251mp+o63vsDUocrxZ+\n",
              "xrpsEsHGmup4JfFvgVaGxFXO51PtkQuxAKzekfVzxkLG2GE2sPImbcJ4WZULYmgFh9DrSTQ3bZnJ\n",
              "2rUsOFv1UwI1FtM4wTbPE44Z4bCAk/kF4AgNWDPpDb9sjgxsXalxbK1uDY5TAnHXHehKaBWyud/X\n",
              "cqdZsGIkX+o4uPkEoyigpODv5JyzrjosMRDElY36OeAi9Epwh2Co7/IApcz6Ek8MKSD/B5tH1vD2\n",
              "kRtS9BwJMUtENMhcD+KTjOUXXVz+ggYLVTWKJzfpeCIHPB581GPmXyJ800TPyJtXJ4qd2E9KCya+\n",
              "2CaDIg0DLrGYaXSQATIbeGvjGuCgzC0ikPgtssraS+fIqjUBce17KpGKQfrV41MQgft2ePhTVz6t\n",
              "3QqwTxCnv6pOYtJ4HavLAYBusy0TMa0synbYQzrsrWtPYw7NWrf5XK56BQ1z6GKnKT05iS3eRPaF\n",
              "JWDP2IWik+z0JKs8qU7G6DxdGVLSY3zelcclDpqmvTC7mX8wfB42RZoS7PKIOho7NRyaoWlaYrnC\n",
              "e5XJNSyO8Nff7+TzXEIltXKvsDSokMJEUJZCPhTtnWDQiWMloEsnM+dVK3lIy/hj65Be7TroGuSE\n",
              "t5n9CMNILC8jj6roFD7Qj65w19dCjSOnmMz2ld33CTZWB0jrjlABN+wqSWxSzz8MX7aO3ez67kd5\n",
              "Jn2Z6AW+oTCTRNDC06dk4aoC3JdLZOA5sQibc2sH84D+TbUvz2oHMkFbbDQ8dUtKdVQ8BcHB/KyA\n",
              "dwZkdSwv97u0nXURb5fAQYKFlE5aj7B9qOKNyNCfBW5vzWNWAQW9K/O5TJZTP8yh11OQHZypp2x9\n",
              "Tir6xemre6bt7HZEhET0r9yTgH7jqbCumvJxiuV1omvC53sUPXVkrQlaG5maYtuVc8KZsbH+v+PY\n",
              "i5xupLpe3V/ArGbhJZikTUAbUJTy7Pm0vHrrAkuxaqcckLGEg7n49n+ZAAADVm1vb3YAAABsbXZo\n",
              "ZAAAAAAAAAAAAAAAAAAAA+gAAAu4AAEAAAEAAAAAAAAAAAAAAAABAAAAAAAAAAAAAAAAAAAAAQAA\n",
              "AAAAAAAAAAAAAAAAQAAAAAAAAAAAAAAAAAAAAAAAAAAAAAAAAAAAAAAAAAIAAAKAdHJhawAAAFx0\n",
              "a2hkAAAAAwAAAAAAAAAAAAAAAQAAAAAAAAu4AAAAAAAAAAAAAAAAAAAAAAABAAAAAAAAAAAAAAAA\n",
              "AAAAAQAAAAAAAAAAAAAAAAAAQAAAAAKAAAAB4AAAAAAAJGVkdHMAAAAcZWxzdAAAAAAAAAABAAAL\n",
              "uAAAgAAAAQAAAAAB+G1kaWEAAAAgbWRoZAAAAAAAAAAAAAAAAAAAQAAAAMAAVcQAAAAAAC1oZGxy\n",
              "AAAAAAAAAAB2aWRlAAAAAAAAAAAAAAAAVmlkZW9IYW5kbGVyAAAAAaNtaW5mAAAAFHZtaGQAAAAB\n",
              "AAAAAAAAAAAAAAAkZGluZgAAABxkcmVmAAAAAAAAAAEAAAAMdXJsIAAAAAEAAAFjc3RibAAAALdz\n",
              "dHNkAAAAAAAAAAEAAACnYXZjMQAAAAAAAAABAAAAAAAAAAAAAAAAAAAAAAKAAeAASAAAAEgAAAAA\n",
              "AAAAAQAAAAAAAAAAAAAAAAAAAAAAAAAAAAAAAAAAAAAAAAAAABj//wAAADVhdmNDAWQAFv/hABhn\n",
              "ZAAWrNlAoD2hAAADAAEAAAMAAg8WLZYBAAZo6+PLIsD9+PgAAAAAHHV1aWRraEDyXyRPxbo5pRvP\n",
              "AyPzAAAAAAAAABhzdHRzAAAAAAAAAAEAAAADAABAAAAAABRzdHNzAAAAAAAAAAEAAAABAAAAKGN0\n",
              "dHMAAAAAAAAAAwAAAAEAAIAAAAAAAQAAwAAAAAABAABAAAAAABxzdHNjAAAAAAAAAAEAAAABAAAA\n",
              "AwAAAAEAAAAgc3RzegAAAAAAAAAAAAAAAwAAPAgAAB1YAAALdwAAABRzdGNvAAAAAAAAAAEAAAAw\n",
              "AAAAYnVkdGEAAABabWV0YQAAAAAAAAAhaGRscgAAAAAAAAAAbWRpcmFwcGwAAAAAAAAAAAAAAAAt\n",
              "aWxzdAAAACWpdG9vAAAAHWRhdGEAAAABAAAAAExhdmY1OC43Ni4xMDA=\n",
              "\">\n",
              "  Your browser does not support the video tag.\n",
              "</video>"
            ]
          },
          "metadata": {},
          "execution_count": 151
        }
      ]
    },
    {
      "cell_type": "markdown",
      "source": [
        "## Ejercicio:\n",
        "\n",
        "Calcular la raíz  de $f(x) = sin(x) -x $ en el punto $x_i = 0.1$ con una $tol <=1\\%$\n",
        "\n",
        "Implementar una función que me permita dinámicamente modificar la función (pedirla por consola), la tolerancia y el punto inicial, además de la gráfica y que retorne la raíz, el error, la tabla de iteraciones y la gráfica dinámica de como itera el método.\n",
        "\n",
        "TIP: Indagar sobre los formularios con entradas en COLAB.\n",
        "\n",
        "NOTA: Modificar el código del método para que se pase por consola la ecuación y se realice el método con esta entrada, mostrando la ecuación en el titulo y en los legend de forma dinámica."
      ],
      "metadata": {
        "id": "NA5_sfkspet0"
      }
    }
  ]
}