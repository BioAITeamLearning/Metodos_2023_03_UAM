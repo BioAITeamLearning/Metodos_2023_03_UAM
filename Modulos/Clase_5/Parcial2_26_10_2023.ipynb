{
  "nbformat": 4,
  "nbformat_minor": 0,
  "metadata": {
    "colab": {
      "provenance": []
    },
    "kernelspec": {
      "name": "python3",
      "display_name": "Python 3"
    },
    "language_info": {
      "name": "python"
    }
  },
  "cells": [
    {
      "cell_type": "markdown",
      "source": [
        "# Métodos numéricos y Optimización: Segundo exámen parcial\n",
        "\n",
        "\n",
        "\n",
        "1. Métodos para cálculo de raices (abiertos y cerrados)\n",
        "2. Métodos de Ajuste de curvas e interpolación\n",
        "3. Métodos de integración\n"
      ],
      "metadata": {
        "id": "GxmLvj0T31rU"
      }
    },
    {
      "cell_type": "markdown",
      "source": [
        "## Ejercicio 1 (1 Punto)\n",
        "Halle la raíz de la siguiente función con límites entre -4 y 2, con una tolerancia del 0.5% de error usando los métodos de bisección y falsa posición.\n",
        "\n",
        "Finalmente, establezca el mejor de los métodos cerrados y por qué de su respuesta.\n",
        "\n",
        "Función:\n",
        "\n",
        "$$\n",
        "f(x) = ℯ^{(x)}-x cos(x)-2\n",
        "$$\n",
        "\n",
        "\n"
      ],
      "metadata": {
        "id": "eP6pMbsA4mer"
      }
    },
    {
      "cell_type": "code",
      "execution_count": null,
      "metadata": {
        "id": "_nO6eNT131HY"
      },
      "outputs": [],
      "source": []
    },
    {
      "cell_type": "markdown",
      "source": [
        "## Ejercicio 2 (1 Punto)\n",
        "Halle la raíz de la siguiente función con un valor inicial de -0.6, y con una tolerancia de 0.001 de error usando los métodos de Newton-Raphson, el método de la secante modificada y el de iteración de punto fijo.\n",
        "\n",
        "Finalmente, establezca el mejor de los métodos, justifique el por qué de su apreciación.\n",
        "\n",
        "Función:\n",
        "\n",
        "$$\n",
        "p(x)=x ℯ^{(-x^2)}\n",
        "$$\n",
        "\n"
      ],
      "metadata": {
        "id": "rhOviKGcAo57"
      }
    },
    {
      "cell_type": "code",
      "source": [],
      "metadata": {
        "id": "5YwS4rXXCNk_"
      },
      "execution_count": null,
      "outputs": []
    },
    {
      "cell_type": "markdown",
      "source": [
        "## Ejercicio 3 (1.5 Puntos)\n",
        "\n",
        "Tome la siguiente función y calcule su integral a partir del método de euler:\n",
        "\n",
        "$$\n",
        "y' = 2 x^{2} +3 x-5\n",
        "$$\n",
        "\n",
        "Tome como condición inicial $y(0)=0$ con un tiempo de integración desde $x=0$ hasta $x=1$ con paso de 0.3\n",
        "\n",
        "Luego tome los puntos que le entrega el método de euler y aproxime estos mediante una interpolación polinomial. Imprima el resultado(polinomio).\n",
        "\n",
        "Compare el resultado de la interpolación respecto al resultado analítico de la integral. Analice los resultados y describa sus conclusiones.\n"
      ],
      "metadata": {
        "id": "wUCFnhDZCd3O"
      }
    },
    {
      "cell_type": "code",
      "source": [],
      "metadata": {
        "id": "cZiKoGrqDJIz"
      },
      "execution_count": null,
      "outputs": []
    },
    {
      "cell_type": "markdown",
      "source": [
        "## Ejercicio 4 (1.5 Puntos)\n",
        "\n",
        "Aplique el método de regla de simpson 1/3 multiple y la regla trapezoidal múltiple con n=6 segmentos para integrar la siguiente función:\n",
        "\n",
        "\n",
        "\n",
        "$$\n",
        "F(x) = \\int_{1}^{6} x sen(x)+3 x-1\n",
        "$$\n",
        "\n",
        "Calcule el error para cada una de las integrales, especifique cuál de los métodos es mejor para este caso y justifique su respuesta."
      ],
      "metadata": {
        "id": "humuUa-8DJrh"
      }
    },
    {
      "cell_type": "code",
      "source": [],
      "metadata": {
        "id": "ycJ1r2_0EBIn"
      },
      "execution_count": null,
      "outputs": []
    }
  ]
}