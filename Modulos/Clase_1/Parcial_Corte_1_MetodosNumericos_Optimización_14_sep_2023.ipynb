{
  "nbformat": 4,
  "nbformat_minor": 0,
  "metadata": {
    "colab": {
      "provenance": []
    },
    "kernelspec": {
      "name": "python3",
      "display_name": "Python 3"
    },
    "language_info": {
      "name": "python"
    }
  },
  "cells": [
    {
      "cell_type": "markdown",
      "source": [
        "# Primer parcial de métodos numéricos: Introducción al Python para análisis numérico.\n",
        "\n",
        "Para el desarrollo del siguiente parcial debe desarrollar su código en cada una de las celdas dispuestas para eso. Deberá enviar este notebook con las respuestas ejecutadas."
      ],
      "metadata": {
        "id": "EJHfiqKhoG4a"
      }
    },
    {
      "cell_type": "markdown",
      "source": [
        "## Pregunta 1.\n",
        "\n",
        "Realiza un programa que, mediante funciones, pida al usuario que ingrese dos números y luego realizar algunas operaciones matemáticas con ellos después de convertirlos en tipos numéricos adecuados. Asegúrate de manejar posibles errores de conversión de manera adecuada."
      ],
      "metadata": {
        "id": "bg-JYit9pwG3"
      }
    },
    {
      "cell_type": "code",
      "source": [
        "### Tu código aquí\n",
        "\n",
        "### Tu código finaliza aquí"
      ],
      "metadata": {
        "id": "I8EDsia4pvgN"
      },
      "execution_count": null,
      "outputs": []
    },
    {
      "cell_type": "code",
      "source": [
        "## Acá una demostración del funcionamiento del programa\n"
      ],
      "metadata": {
        "id": "ecxB4kpBq7DR"
      },
      "execution_count": null,
      "outputs": []
    },
    {
      "cell_type": "markdown",
      "source": [
        "## Pregunta 2.\n",
        "\n",
        "Simulador de gestión de inventario para una tienda en línea.\n",
        "\n",
        "Tome el archivo \"inventario.csv\" y cree un programa en Python que permita a un usuario interactuar con el inventario. El programa debe tener las siguientes características:\n",
        "\n",
        "* Permitir al usuario agregar nuevos productos y especificar sus cantidades.\n",
        "* Permitir al usuario verificar la cantidad de un producto en el inventario.\n",
        "* Permitir al usuario actualizar la cantidad de un producto en el inventario.\n",
        "* Mostrar el inventario completo al usuario.\n",
        "* ¿Cuál es el precio promedio de los productos en el inventario?\n",
        "* ¿Cuál es el producto más caro en el inventario y cuál es su precio?\n",
        "* ¿Cuántos productos hay en cada categoría?\n",
        "* ¿Cuál es la categoría con el mayor número de productos?\n",
        "* ¿Cuál es el producto con el menor precio?\n",
        "\n",
        "\n",
        "[Inventario.csv](https://github.com/BioAITeamLearning/Metodos_2023_03_UAM/raw/main/Modulos/Clase_1/Intro_Python/Data/inventario.csv)\n"
      ],
      "metadata": {
        "id": "VypFL4hdrf4A"
      }
    },
    {
      "cell_type": "code",
      "source": [
        "### Tu código aquí\n",
        "\n",
        "### Tu código finaliza aquí"
      ],
      "metadata": {
        "id": "MCUyUa_MreYA"
      },
      "execution_count": null,
      "outputs": []
    },
    {
      "cell_type": "markdown",
      "source": [
        "## Pregunta 3.\n",
        "\n",
        "Realice un programa que lea una colección de datos introducida por consola, en donde se debe solicitar primero el tamaño y luego solicitar los valores.Finalmente,  se debe mostrar la colección ordenada de menor a mayor.\n",
        "Ejemplo:\n",
        "\n",
        "Si la colección leída es [4 5 3 8], se debe mostrar [3 4 5 8].\n"
      ],
      "metadata": {
        "id": "9_EkeAc33i90"
      }
    },
    {
      "cell_type": "code",
      "source": [
        "### Tu código aquí\n",
        "\n",
        "### Tu código finaliza aquí"
      ],
      "metadata": {
        "id": "SsjcjsRt3n9s"
      },
      "execution_count": null,
      "outputs": []
    },
    {
      "cell_type": "markdown",
      "source": [
        "## Pregunta 4.\n",
        "\n",
        "Hacer un programa que lea un número y oscile entre los positivos y negativos hasta llegar a el número cero.\n",
        "\n",
        "Ejemplo: leído el número 5 la salida de dicho programa será:\n",
        "\n",
        "5 4 3 2 1 0 -1 -2 -3 -4 -3 -2 -1 0 1 2 3 2 1 0 -1 -2 -1 0 1 0\n"
      ],
      "metadata": {
        "id": "Rn4d1eqN4EFJ"
      }
    },
    {
      "cell_type": "code",
      "source": [
        "### Tu código aquí\n",
        "\n",
        "### Tu código finaliza aquí"
      ],
      "metadata": {
        "id": "94AbJWeq4NhL"
      },
      "execution_count": null,
      "outputs": []
    },
    {
      "cell_type": "markdown",
      "source": [
        "## Pregunta 5.\n",
        "\n",
        "Realice un programa que permita a un usuario leer una `matriz` o un `vector`, luego debes solicitar otra matriz o vector y finalmente, con las dos variables debes realizar el `producto vectorial` y el `producto escalar` si se puede, debe validar las dimensiones de de los vectores o matrices e informar en caso que no se puedan realizar las operaciones."
      ],
      "metadata": {
        "id": "ZVDcaEcwvurq"
      }
    },
    {
      "cell_type": "code",
      "source": [
        "### Tu código aquí\n",
        "\n",
        "### Tu código finaliza aquí"
      ],
      "metadata": {
        "id": "lriTLpMnyWeg"
      },
      "execution_count": null,
      "outputs": []
    },
    {
      "cell_type": "markdown",
      "source": [
        "## Pregunta 6.\n",
        "\n",
        "Realice una función en Python que contenga las siguientes funciones:\n",
        "\n",
        "A) $y = -cos(x) $\n",
        "\n",
        "B) $y = e^{(x-1)}+2$\n",
        "\n",
        "C) $y = -2x^2 +x + 10$\n",
        "\n",
        "D) $z = x^2 + y^2$\n",
        "\n",
        "Debes realizar un programa para realizar las gráficas entre -2*π y 2*π. Dibuja los puntos críticos y realiza la gráfica en forma de gift en la que se muestre como se va formando cada una de las superficies.\n",
        "\n",
        "Además debes calcular el punto mínimo cada una de las ecuaciones usando la librería `sympy` y los métodos `diff` y finalmente cada ecuación debe ser evaluada en `π/2` y mostrar este punto en la imágen.\n",
        "\n",
        "El usuario debe poder elegir entre la función a visualizar o poder visualizarlas todas al tiempo."
      ],
      "metadata": {
        "id": "p480sopV4vyK"
      }
    },
    {
      "cell_type": "code",
      "source": [
        "### Tu código aquí\n",
        "\n",
        "### Tu código finaliza aquí"
      ],
      "metadata": {
        "id": "XLqQIM1P5NLM"
      },
      "execution_count": null,
      "outputs": []
    },
    {
      "cell_type": "markdown",
      "source": [
        "## Pregunta 7.\n",
        "\n",
        "Tomando como insumo la siguiente imágen:\n",
        "\n",
        "\n",
        "<html lang=\"es\">\n",
        "<head>\n",
        "    <meta charset=\"UTF-8\">\n",
        "    <meta name=\"viewport\" content=\"width=device-width, initial-scale=1.0\">\n",
        "    <title>Ejemplo de entrada y salida del ejercicio</title>\n",
        "</head>\n",
        "<body>\n",
        "  <div style=\"display: flex;\">\n",
        "      <div style=\"margin-right: 40px; float: left;\">\n",
        "          <img src=\"https://imagendemujer.com/wp-content/uploads/2019/03/girl-2940655_640.jpg\" alt=\"Imagen 1\" width=\"200\" height=\"150\"/>\n",
        "          <img src=\"https://github.com/BioAITeamLearning/Metodos_2023_03_UAM/blob/main/images/img_parcial.png?raw=true\" alt=\"Imagen 2\" width=\"200\" height=\"150\"/>\n",
        "      </div>\n",
        "  </div>\n",
        "</body>\n",
        "</html>\n",
        "\n",
        "\n",
        "Relice un programa que tome la imágen y la modifique para recrear el encuadre de la misma en una circunferencia. lo que está por fuera de la circunferencia debe ser puesto en negro si el pixel es menor a 128 y si es mayor debe ser puesto en blanco. Lo de dentro de la corcunferencia debe quedar de la misma manera.\n",
        "\n",
        "TIP: tenga en cuenta la ecucación de la circunferencia para resolver esta pregunta.\n",
        "\n",
        "Recurso la imágen: [https://imagendemujer.com/wp-content/uploads/2019/03/girl-2940655_640.jpg](https://imagendemujer.com/wp-content/uploads/2019/03/girl-2940655_640.jpg)"
      ],
      "metadata": {
        "id": "nDoKnhCcU937"
      }
    },
    {
      "cell_type": "code",
      "source": [
        "### Tu código aquí\n",
        "\n",
        "### Tu código finaliza aquí"
      ],
      "metadata": {
        "id": "23maB1bo7Ikn"
      },
      "execution_count": null,
      "outputs": []
    }
  ]
}